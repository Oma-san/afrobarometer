{
 "cells": [
  {
   "cell_type": "code",
   "execution_count": 1,
   "id": "0ec2392d",
   "metadata": {},
   "outputs": [],
   "source": [
    "# Import libraries\n",
    "import pandas as pd\n",
    "import pyreadstat as pyr\n",
    "\n",
    "import seaborn as sns\n",
    "import matplotlib.pyplot as plt\n",
    "import plotly.express as px\n",
    "from wrangle2021 import Wrangler"
   ]
  },
  {
   "cell_type": "code",
   "execution_count": 2,
   "id": "3955d143",
   "metadata": {},
   "outputs": [
    {
     "data": {
      "text/html": [
       "<div>\n",
       "<style scoped>\n",
       "    .dataframe tbody tr th:only-of-type {\n",
       "        vertical-align: middle;\n",
       "    }\n",
       "\n",
       "    .dataframe tbody tr th {\n",
       "        vertical-align: top;\n",
       "    }\n",
       "\n",
       "    .dataframe thead th {\n",
       "        text-align: right;\n",
       "    }\n",
       "</style>\n",
       "<table border=\"1\" class=\"dataframe\">\n",
       "  <thead>\n",
       "    <tr style=\"text-align: right;\">\n",
       "      <th></th>\n",
       "      <th>State</th>\n",
       "      <th>Reject one-party rule</th>\n",
       "      <th>Reject military rule</th>\n",
       "      <th>Reject one-man rule</th>\n",
       "    </tr>\n",
       "  </thead>\n",
       "  <tbody>\n",
       "    <tr>\n",
       "      <th>0</th>\n",
       "      <td>IMO</td>\n",
       "      <td>Disapprove</td>\n",
       "      <td>Disapprove</td>\n",
       "      <td>Don’t know</td>\n",
       "    </tr>\n",
       "    <tr>\n",
       "      <th>1</th>\n",
       "      <td>FCT ABUJA</td>\n",
       "      <td>Strongly disapprove</td>\n",
       "      <td>Strongly disapprove</td>\n",
       "      <td>Strongly disapprove</td>\n",
       "    </tr>\n",
       "    <tr>\n",
       "      <th>2</th>\n",
       "      <td>FCT ABUJA</td>\n",
       "      <td>Strongly approve</td>\n",
       "      <td>Approve</td>\n",
       "      <td>Strongly disapprove</td>\n",
       "    </tr>\n",
       "    <tr>\n",
       "      <th>3</th>\n",
       "      <td>FCT ABUJA</td>\n",
       "      <td>Neither approve nor disapprove</td>\n",
       "      <td>Neither approve nor disapprove</td>\n",
       "      <td>Neither approve nor disapprove</td>\n",
       "    </tr>\n",
       "    <tr>\n",
       "      <th>4</th>\n",
       "      <td>FCT ABUJA</td>\n",
       "      <td>Strongly disapprove</td>\n",
       "      <td>Strongly disapprove</td>\n",
       "      <td>Strongly disapprove</td>\n",
       "    </tr>\n",
       "  </tbody>\n",
       "</table>\n",
       "</div>"
      ],
      "text/plain": [
       "       State           Reject one-party rule            Reject military rule  \\\n",
       "0        IMO                      Disapprove                      Disapprove   \n",
       "1  FCT ABUJA             Strongly disapprove             Strongly disapprove   \n",
       "2  FCT ABUJA                Strongly approve                         Approve   \n",
       "3  FCT ABUJA  Neither approve nor disapprove  Neither approve nor disapprove   \n",
       "4  FCT ABUJA             Strongly disapprove             Strongly disapprove   \n",
       "\n",
       "              Reject one-man rule  \n",
       "0                      Don’t know  \n",
       "1             Strongly disapprove  \n",
       "2             Strongly disapprove  \n",
       "3  Neither approve nor disapprove  \n",
       "4             Strongly disapprove  "
      ]
     },
     "execution_count": 2,
     "metadata": {},
     "output_type": "execute_result"
    }
   ],
   "source": [
    "# 14th analysis\n",
    "#load df\n",
    "df, meta = pyr.read_sav('afrobarometer_nigeria_rd8_2021.sav')\n",
    "# Select specific columns from the Dataframe based on the information provided in the metadata\n",
    "# and Replaces the code numbers with the actual values in each column using their actual name in the metadata\n",
    "columns = ['REGION','Q20A', 'Q20B', 'Q20C']\n",
    "df_new = df.copy()[columns]\n",
    "for i in columns:\n",
    "    x = meta.variable_value_labels[i]\n",
    "    df_new[i].replace(x, inplace=True)\n",
    "    \n",
    "\n",
    "\n",
    "# Rename columns\n",
    "df_new.columns = ['State', 'Reject one-party rule', 'Reject military rule', 'Reject one-man rule']\n",
    "\n",
    "df_new.head()"
   ]
  },
  {
   "cell_type": "code",
   "execution_count": 3,
   "id": "60c74f06",
   "metadata": {},
   "outputs": [],
   "source": [
    "# Instantiate wrangle class\n",
    "wrangle = Wrangler()"
   ]
  },
  {
   "cell_type": "code",
   "execution_count": 4,
   "id": "25ceb639",
   "metadata": {},
   "outputs": [],
   "source": [
    "data = wrangle.wrangle(columns=['REGION','Q20A', 'Q20B', 'Q20C'],rename=['State', 'Reject one-party rule', 'Reject military rule', 'Reject one-man rule'])"
   ]
  },
  {
   "cell_type": "code",
   "execution_count": 5,
   "id": "21dcd868",
   "metadata": {},
   "outputs": [
    {
     "name": "stdout",
     "output_type": "stream",
     "text": [
      "Strongly disapprove               0.585366\n",
      "Disapprove                        0.222014\n",
      "Approve                           0.096310\n",
      "Strongly approve                  0.046279\n",
      "Neither approve nor disapprove    0.031270\n",
      "Don’t know                        0.018762\n",
      "Name: Reject one-party rule, dtype: float64\n",
      "Strongly disapprove               0.554722\n",
      "Disapprove                        0.181363\n",
      "Approve                           0.111320\n",
      "Strongly approve                  0.070044\n",
      "Neither approve nor disapprove    0.060663\n",
      "Don’t know                        0.021263\n",
      "Refused                           0.000625\n",
      "Name: Reject military rule, dtype: float64\n",
      "Strongly disapprove               0.569106\n",
      "Disapprove                        0.258912\n",
      "Approve                           0.075047\n",
      "Neither approve nor disapprove    0.057536\n",
      "Strongly approve                  0.021263\n",
      "Don’t know                        0.018136\n",
      "Name: Reject one-man rule, dtype: float64\n"
     ]
    }
   ],
   "source": [
    "wrangle.get_frequency(columns=['Reject one-party rule', 'Reject military rule', 'Reject one-man rule'], df_new=data)"
   ]
  },
  {
   "cell_type": "code",
   "execution_count": 6,
   "id": "fb4b8a50",
   "metadata": {},
   "outputs": [],
   "source": [
    "df_new = wrangle.remove(columns=['Reject one-party rule', 'Reject military rule', 'Reject one-man rule'], df_new=data)"
   ]
  },
  {
   "cell_type": "code",
   "execution_count": 7,
   "id": "24dc5324",
   "metadata": {},
   "outputs": [
    {
     "data": {
      "image/png": "[encoded data removed]",
      "text/plain": [
       "<Figure size 432x288 with 3 Axes>"
      ]
     },
     "metadata": {
      "needs_background": "light"
     },
     "output_type": "display_data"
    }
   ],
   "source": [
    "fig = plt.figure()\n",
    "\n",
    "# Needed to add spacing between 1st and 2nd row\n",
    "# Add a margin between the main title and sub-plots\n",
    "fig.subplots_adjust(hspace=0.4, top=2)\n",
    "\n",
    "# Add the main title\n",
    "fig.suptitle(\"Nigerian perception of authoritarian rule\", y=2.2, fontsize=15)\n",
    "\n",
    "\n",
    "# Add the subplots\n",
    "ax1 = fig.add_subplot(3,1,1)\n",
    "ax2 = fig.add_subplot(3,1,2)\n",
    "ax3 = fig.add_subplot(3,1,3)\n",
    "\n",
    "\n",
    "\n",
    "\n",
    "# Plot for axis 1-3\n",
    "(df_new['Reject one-party rule'].value_counts(normalize=True).sort_values()*100).plot(kind='barh', ax=ax1, color='green')\n",
    "(df_new['Reject military rule'].value_counts(normalize=True).sort_values()*100).plot(kind='barh', ax=ax2, color='green')\n",
    "(df_new['Reject one-man rule'].value_counts(normalize=True).sort_values()*100).plot(kind='barh', ax=ax3, color='green')\n",
    "\n",
    "# Add the text for each subplot\n",
    "ax1.title.set_text('Do you approve one-party rule?')\n",
    "ax2.title.set_text('Do you approve military rule?')\n",
    "ax3.title.set_text('Do you approve one-man rule?')\n",
    "\n",
    "\n",
    "# label\n",
    "plt.xlabel('Percentage [%]')\n",
    "\n",
    "plt.show()"
   ]
  },
  {
   "cell_type": "code",
   "execution_count": null,
   "id": "6719b451",
   "metadata": {},
   "outputs": [],
   "source": []
  }
 ],
 "metadata": {
  "kernelspec": {
   "display_name": "Python 3",
   "language": "python",
   "name": "python3"
  },
  "language_info": {
   "codemirror_mode": {
    "name": "ipython",
    "version": 3
   },
   "file_extension": ".py",
   "mimetype": "text/x-python",
   "name": "python",
   "nbconvert_exporter": "python",
   "pygments_lexer": "ipython3",
   "version": "3.8.8"
  }
 },
 "nbformat": 4,
 "nbformat_minor": 5
}
