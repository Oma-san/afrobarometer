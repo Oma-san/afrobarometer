{
 "cells": [
  {
   "cell_type": "code",
   "execution_count": 1,
   "id": "f9c81083",
   "metadata": {},
   "outputs": [],
   "source": [
    "# Import libraries\n",
    "import pandas as pd\n",
    "import pyreadstat as pyr\n",
    "\n",
    "import seaborn as sns\n",
    "import matplotlib.pyplot as plt\n",
    "import plotly.express as px\n",
    "from wrangle2021 import Wrangler"
   ]
  },
  {
   "cell_type": "code",
   "execution_count": 3,
   "id": "e1fc16ab",
   "metadata": {
    "scrolled": false
   },
   "outputs": [
    {
     "data": {
      "text/html": [
       "<div>\n",
       "<style scoped>\n",
       "    .dataframe tbody tr th:only-of-type {\n",
       "        vertical-align: middle;\n",
       "    }\n",
       "\n",
       "    .dataframe tbody tr th {\n",
       "        vertical-align: top;\n",
       "    }\n",
       "\n",
       "    .dataframe thead th {\n",
       "        text-align: right;\n",
       "    }\n",
       "</style>\n",
       "<table border=\"1\" class=\"dataframe\">\n",
       "  <thead>\n",
       "    <tr style=\"text-align: right;\">\n",
       "      <th></th>\n",
       "      <th>State</th>\n",
       "      <th>Attended campaign rally</th>\n",
       "      <th>Worked for candidate or party</th>\n",
       "      <th>Contacted by party rep</th>\n",
       "    </tr>\n",
       "  </thead>\n",
       "  <tbody>\n",
       "    <tr>\n",
       "      <th>0</th>\n",
       "      <td>IMO</td>\n",
       "      <td>No</td>\n",
       "      <td>No</td>\n",
       "      <td>No</td>\n",
       "    </tr>\n",
       "    <tr>\n",
       "      <th>1</th>\n",
       "      <td>FCT ABUJA</td>\n",
       "      <td>Yes</td>\n",
       "      <td>No</td>\n",
       "      <td>No</td>\n",
       "    </tr>\n",
       "    <tr>\n",
       "      <th>2</th>\n",
       "      <td>FCT ABUJA</td>\n",
       "      <td>Yes</td>\n",
       "      <td>Yes</td>\n",
       "      <td>No</td>\n",
       "    </tr>\n",
       "    <tr>\n",
       "      <th>3</th>\n",
       "      <td>FCT ABUJA</td>\n",
       "      <td>No</td>\n",
       "      <td>No</td>\n",
       "      <td>No</td>\n",
       "    </tr>\n",
       "    <tr>\n",
       "      <th>4</th>\n",
       "      <td>FCT ABUJA</td>\n",
       "      <td>No</td>\n",
       "      <td>Yes</td>\n",
       "      <td>Yes</td>\n",
       "    </tr>\n",
       "  </tbody>\n",
       "</table>\n",
       "</div>"
      ],
      "text/plain": [
       "       State Attended campaign rally Worked for candidate or party  \\\n",
       "0        IMO                      No                            No   \n",
       "1  FCT ABUJA                     Yes                            No   \n",
       "2  FCT ABUJA                     Yes                           Yes   \n",
       "3  FCT ABUJA                      No                            No   \n",
       "4  FCT ABUJA                      No                           Yes   \n",
       "\n",
       "  Contacted by party rep  \n",
       "0                     No  \n",
       "1                     No  \n",
       "2                     No  \n",
       "3                     No  \n",
       "4                    Yes  "
      ]
     },
     "execution_count": 3,
     "metadata": {},
     "output_type": "execute_result"
    }
   ],
   "source": [
    "# 8th analysis\n",
    "#load df\n",
    "df, meta = pyr.read_sav('afrobarometer_nigeria_rd8_2021.sav')\n",
    "# Select specific columns from the Dataframe based on the information provided in the metadata\n",
    "# and Replaces the code numbers with the actual values in each column using their actual name in the metadata\n",
    "columns = ['REGION','Q15A', 'Q15B', 'Q15C']\n",
    "df_new = df.copy()[columns]\n",
    "for i in columns:\n",
    "    x = meta.variable_value_labels[i]\n",
    "    df_new[i].replace(x, inplace=True)\n",
    "    \n",
    "\n",
    "\n",
    "# Rename columns\n",
    "df_new.columns = ['State', 'Attended campaign rally', 'Worked for candidate or party', 'Contacted by party rep']\n",
    "\n",
    "df_new.head()"
   ]
  },
  {
   "cell_type": "code",
   "execution_count": 2,
   "id": "fd993ccb",
   "metadata": {},
   "outputs": [],
   "source": [
    "wrangle = Wrangler()"
   ]
  },
  {
   "cell_type": "code",
   "execution_count": 3,
   "id": "8cdb7505",
   "metadata": {},
   "outputs": [],
   "source": [
    "data = wrangle.wrangle(columns = ['REGION','Q15A', 'Q15B', 'Q15C'],\n",
    "               rename = ['State', 'Attended campaign rally', 'Worked for candidate or party', 'Contacted by party rep'])"
   ]
  },
  {
   "cell_type": "code",
   "execution_count": 4,
   "id": "8c13ab94",
   "metadata": {},
   "outputs": [],
   "source": [
    "data = wrangle.remove(columns=['Attended campaign rally', 'Worked for candidate or party', 'Contacted by party rep'],\n",
    "                     df_new=data)"
   ]
  },
  {
   "cell_type": "code",
   "execution_count": 5,
   "id": "a8b05d2b",
   "metadata": {},
   "outputs": [
    {
     "name": "stdout",
     "output_type": "stream",
     "text": [
      "No     0.747322\n",
      "Yes    0.252678\n",
      "Name: Attended campaign rally, dtype: float64\n",
      "No     0.800882\n",
      "Yes    0.199118\n",
      "Name: Worked for candidate or party, dtype: float64\n",
      "No     0.762445\n",
      "Yes    0.237555\n",
      "Name: Contacted by party rep, dtype: float64\n"
     ]
    }
   ],
   "source": [
    "wrangle.get_frequency(columns = ['Attended campaign rally', 'Worked for candidate or party', 'Contacted by party rep'],\n",
    "                     df_new=data)"
   ]
  },
  {
   "cell_type": "code",
   "execution_count": 9,
   "id": "5eb50eb2",
   "metadata": {},
   "outputs": [
    {
     "name": "stdout",
     "output_type": "stream",
     "text": [
      "No     0.747322\n",
      "Yes    0.252678\n",
      "Name: Attended campaign rally, dtype: float64\n",
      "No     0.800882\n",
      "Yes    0.199118\n",
      "Name: Worked for candidate or party, dtype: float64\n",
      "No     0.762445\n",
      "Yes    0.237555\n",
      "Name: Contacted by party rep, dtype: float64\n"
     ]
    }
   ],
   "source": [
    "# Gets the frequency of the elements of each column\n",
    "columns = ['Attended campaign rally', 'Worked for candidate or party', 'Contacted by party rep']\n",
    "for i in columns:\n",
    "    print(df_new[i].value_counts(normalize=True))"
   ]
  },
  {
   "cell_type": "code",
   "execution_count": 8,
   "id": "f4b7504f",
   "metadata": {},
   "outputs": [],
   "source": [
    "remove = [\"Don't know\",\"Refused\"]\n",
    "columns = ['Attended campaign rally', 'Worked for candidate or party', 'Contacted by party rep']\n",
    "\n",
    "for j in columns:\n",
    "    for i in remove:\n",
    "        df_new = df_new.loc[df_new[j] != i]"
   ]
  },
  {
   "cell_type": "code",
   "execution_count": 13,
   "id": "f71f6357",
   "metadata": {},
   "outputs": [
    {
     "data": {
      "image/png": "[encoded data removed]",
      "text/plain": [
       "<Figure size 432x288 with 3 Axes>"
      ]
     },
     "metadata": {
      "needs_background": "light"
     },
     "output_type": "display_data"
    }
   ],
   "source": [
    "fig = plt.figure()\n",
    "\n",
    "# Needed to add spacing between 1st and 2nd row\n",
    "# Add a margin between the main title and sub-plots\n",
    "fig.subplots_adjust(hspace=0.4, top=2)\n",
    "\n",
    "# Add the main title\n",
    "fig.suptitle(\"Campaigning in the last Nigerian General Election\", y=2.2, fontsize=15)\n",
    "\n",
    "\n",
    "# Add the subplots\n",
    "ax1 = fig.add_subplot(3,1,1)\n",
    "ax2 = fig.add_subplot(3,1,2)\n",
    "ax3 = fig.add_subplot(3,1,3)\n",
    "\n",
    "\n",
    "\n",
    "# Plot for axis 1-4\n",
    "(df_new['Attended campaign rally'].value_counts(normalize=True).sort_values()*100).plot(kind='barh', ax=ax1, color='green')\n",
    "(df_new['Worked for candidate or party'].value_counts(normalize=True).sort_values()*100).plot(kind='barh', ax=ax2, color='green')\n",
    "(df_new['Contacted by party rep'].value_counts(normalize=True).sort_values()*100).plot(kind='barh', ax=ax3, color='green')\n",
    "\n",
    "# Add the text for each subplot\n",
    "ax1.title.set_text(\"Did you attend a campaign rally?\")\n",
    "ax2.title.set_text(\"Did you work for a canditate or party?\")\n",
    "ax3.title.set_text(\"Were you contacted by a party representative?\")\n",
    "\n",
    "# label\n",
    "plt.xlabel('Percentage [%]')\n",
    "\n",
    "plt.show()"
   ]
  },
  {
   "cell_type": "code",
   "execution_count": null,
   "id": "51e38394",
   "metadata": {},
   "outputs": [],
   "source": []
  }
 ],
 "metadata": {
  "kernelspec": {
   "display_name": "Python 3",
   "language": "python",
   "name": "python3"
  },
  "language_info": {
   "codemirror_mode": {
    "name": "ipython",
    "version": 3
   },
   "file_extension": ".py",
   "mimetype": "text/x-python",
   "name": "python",
   "nbconvert_exporter": "python",
   "pygments_lexer": "ipython3",
   "version": "3.8.8"
  }
 },
 "nbformat": 4,
 "nbformat_minor": 5
}
