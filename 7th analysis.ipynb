{
 "cells": [
  {
   "cell_type": "code",
   "execution_count": 1,
   "id": "63030366",
   "metadata": {},
   "outputs": [],
   "source": [
    "# Import libraries\n",
    "import pandas as pd\n",
    "import pyreadstat as pyr\n",
    "\n",
    "import seaborn as sns\n",
    "import matplotlib.pyplot as plt\n",
    "import plotly.express as px"
   ]
  },
  {
   "cell_type": "code",
   "execution_count": 2,
   "id": "f34c54b8",
   "metadata": {},
   "outputs": [
    {
     "data": {
      "text/html": [
       "<div>\n",
       "<style scoped>\n",
       "    .dataframe tbody tr th:only-of-type {\n",
       "        vertical-align: middle;\n",
       "    }\n",
       "\n",
       "    .dataframe tbody tr th {\n",
       "        vertical-align: top;\n",
       "    }\n",
       "\n",
       "    .dataframe thead th {\n",
       "        text-align: right;\n",
       "    }\n",
       "</style>\n",
       "<table border=\"1\" class=\"dataframe\">\n",
       "  <thead>\n",
       "    <tr style=\"text-align: right;\">\n",
       "      <th></th>\n",
       "      <th>State</th>\n",
       "      <th>Voted in last election</th>\n",
       "      <th>Freeness and fairness of last election</th>\n",
       "    </tr>\n",
       "  </thead>\n",
       "  <tbody>\n",
       "    <tr>\n",
       "      <th>0</th>\n",
       "      <td>IMO</td>\n",
       "      <td>I did not vote</td>\n",
       "      <td>Free and fair, with major problems</td>\n",
       "    </tr>\n",
       "    <tr>\n",
       "      <th>1</th>\n",
       "      <td>FCT ABUJA</td>\n",
       "      <td>I voted in the election</td>\n",
       "      <td>Free and fair, with major problems</td>\n",
       "    </tr>\n",
       "    <tr>\n",
       "      <th>2</th>\n",
       "      <td>FCT ABUJA</td>\n",
       "      <td>I voted in the election</td>\n",
       "      <td>Completely free and fair</td>\n",
       "    </tr>\n",
       "    <tr>\n",
       "      <th>3</th>\n",
       "      <td>FCT ABUJA</td>\n",
       "      <td>I voted in the election</td>\n",
       "      <td>Completely free and fair</td>\n",
       "    </tr>\n",
       "    <tr>\n",
       "      <th>4</th>\n",
       "      <td>FCT ABUJA</td>\n",
       "      <td>I did not vote</td>\n",
       "      <td>Not free and fair</td>\n",
       "    </tr>\n",
       "  </tbody>\n",
       "</table>\n",
       "</div>"
      ],
      "text/plain": [
       "       State   Voted in last election Freeness and fairness of last election\n",
       "0        IMO           I did not vote     Free and fair, with major problems\n",
       "1  FCT ABUJA  I voted in the election     Free and fair, with major problems\n",
       "2  FCT ABUJA  I voted in the election               Completely free and fair\n",
       "3  FCT ABUJA  I voted in the election               Completely free and fair\n",
       "4  FCT ABUJA           I did not vote                      Not free and fair"
      ]
     },
     "execution_count": 2,
     "metadata": {},
     "output_type": "execute_result"
    }
   ],
   "source": [
    "# 7th analysis\n",
    "#load df\n",
    "df, meta = pyr.read_sav('afrobarometer_nigeria_rd8_2021.sav')\n",
    "# Select specific columns from the Dataframe based on the information provided in the metadata\n",
    "# and Replaces the code numbers with the actual values in each column using their actual name in the metadata\n",
    "columns = ['REGION','Q13', 'Q14']\n",
    "df_new = df.copy()[columns]\n",
    "for i in columns:\n",
    "    x = meta.variable_value_labels[i]\n",
    "    df_new[i].replace(x, inplace=True)\n",
    "    \n",
    "\n",
    "\n",
    "# Rename columns\n",
    "df_new.columns = ['State', 'Voted in last election', 'Freeness and fairness of last election']\n",
    "\n",
    "df_new.head()"
   ]
  },
  {
   "cell_type": "code",
   "execution_count": 7,
   "id": "73a9caf5",
   "metadata": {},
   "outputs": [
    {
     "data": {
      "text/plain": [
       "I voted in the election             0.804620\n",
       "I did not vote                      0.182178\n",
       "I can’t remember whether I voted    0.006601\n",
       "I was too young to vote             0.006601\n",
       "Name: Voted in last election, dtype: float64"
      ]
     },
     "execution_count": 7,
     "metadata": {},
     "output_type": "execute_result"
    }
   ],
   "source": [
    "df_new['Voted in last election'].value_counts(normalize=True)"
   ]
  },
  {
   "cell_type": "code",
   "execution_count": 8,
   "id": "cad42b86",
   "metadata": {},
   "outputs": [
    {
     "data": {
      "text/plain": [
       "Completely free and fair                  0.419802\n",
       "Free and fair, but with minor problems    0.297030\n",
       "Not free and fair                         0.143234\n",
       "Free and fair, with major problems        0.139934\n",
       "Name: Freeness and fairness of last election, dtype: float64"
      ]
     },
     "execution_count": 8,
     "metadata": {},
     "output_type": "execute_result"
    }
   ],
   "source": [
    "df_new['Freeness and fairness of last election'].value_counts(normalize=True)"
   ]
  },
  {
   "cell_type": "code",
   "execution_count": 6,
   "id": "90448513",
   "metadata": {},
   "outputs": [],
   "source": [
    "hope = [\"Don’t know\",\"Refused\",\"Do not understand question\"]\n",
    "less = ['Voted in last election', 'Freeness and fairness of last election']\n",
    "\n",
    "for j in less:\n",
    "    for i in hope:\n",
    "        df_new = df_new.loc[df_new[j] != i]"
   ]
  },
  {
   "cell_type": "code",
   "execution_count": 23,
   "id": "68cb1c5f",
   "metadata": {},
   "outputs": [
    {
     "data": {
      "image/png": "[encoded data removed]",
      "text/plain": [
       "<Figure size 432x288 with 2 Axes>"
      ]
     },
     "metadata": {
      "needs_background": "light"
     },
     "output_type": "display_data"
    }
   ],
   "source": [
    "fig = plt.figure()\n",
    "\n",
    "# Needed to add spacing between 1st and 2nd row\n",
    "# Add a margin between the main title and sub-plots\n",
    "fig.subplots_adjust(hspace=0.2, top=2)\n",
    "\n",
    "# Add the main title\n",
    "fig.suptitle(\"Voting in the last Nigerian General Election\", y=2.2, fontsize=15)\n",
    "\n",
    "\n",
    "# Add the subplots\n",
    "ax1 = fig.add_subplot(2,1,1)\n",
    "ax2 = fig.add_subplot(2,1,2)\n",
    "\n",
    "\n",
    "\n",
    "# Plot for axis 1-4\n",
    "(df_new['Voted in last election'].value_counts(normalize=True).sort_values()*100).plot(kind='barh', ax=ax1, color='green')\n",
    "(df_new['Freeness and fairness of last election'].value_counts(normalize=True).sort_values()*100).plot(kind='barh', ax=ax2, color='green')\n",
    "\n",
    "# Add the text for each subplot\n",
    "ax1.title.set_text(\"Did you vote in the last election?\")\n",
    "ax2.title.set_text(\"How free and fair was the last election?\")\n",
    "\n",
    "# label\n",
    "plt.xlabel('Percentage [%]')\n",
    "\n",
    "plt.show()"
   ]
  },
  {
   "cell_type": "code",
   "execution_count": null,
   "id": "6eb57f0f",
   "metadata": {},
   "outputs": [],
   "source": []
  }
 ],
 "metadata": {
  "kernelspec": {
   "display_name": "Python 3",
   "language": "python",
   "name": "python3"
  },
  "language_info": {
   "codemirror_mode": {
    "name": "ipython",
    "version": 3
   },
   "file_extension": ".py",
   "mimetype": "text/x-python",
   "name": "python",
   "nbconvert_exporter": "python",
   "pygments_lexer": "ipython3",
   "version": "3.8.8"
  }
 },
 "nbformat": 4,
 "nbformat_minor": 5
}
