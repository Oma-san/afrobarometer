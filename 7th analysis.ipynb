{
 "cells": [
  {
   "cell_type": "code",
   "execution_count": 1,
   "id": "63030366",
   "metadata": {},
   "outputs": [],
   "source": [
    "# Import libraries\n",
    "import pandas as pd\n",
    "import pyreadstat as pyr\n",
    "\n",
    "import seaborn as sns\n",
    "import matplotlib.pyplot as plt\n",
    "import plotly.express as px"
   ]
  },
  {
   "cell_type": "code",
   "execution_count": 2,
   "id": "f34c54b8",
   "metadata": {},
   "outputs": [
    {
     "data": {
      "text/html": [
       "<div>\n",
       "<style scoped>\n",
       "    .dataframe tbody tr th:only-of-type {\n",
       "        vertical-align: middle;\n",
       "    }\n",
       "\n",
       "    .dataframe tbody tr th {\n",
       "        vertical-align: top;\n",
       "    }\n",
       "\n",
       "    .dataframe thead th {\n",
       "        text-align: right;\n",
       "    }\n",
       "</style>\n",
       "<table border=\"1\" class=\"dataframe\">\n",
       "  <thead>\n",
       "    <tr style=\"text-align: right;\">\n",
       "      <th></th>\n",
       "      <th>State</th>\n",
       "      <th>Voted in last election</th>\n",
       "      <th>Freeness and fairness of last election</th>\n",
       "    </tr>\n",
       "  </thead>\n",
       "  <tbody>\n",
       "    <tr>\n",
       "      <th>0</th>\n",
       "      <td>IMO</td>\n",
       "      <td>I did not vote</td>\n",
       "      <td>Free and fair, with major problems</td>\n",
       "    </tr>\n",
       "    <tr>\n",
       "      <th>1</th>\n",
       "      <td>FCT ABUJA</td>\n",
       "      <td>I voted in the election</td>\n",
       "      <td>Free and fair, with major problems</td>\n",
       "    </tr>\n",
       "    <tr>\n",
       "      <th>2</th>\n",
       "      <td>FCT ABUJA</td>\n",
       "      <td>I voted in the election</td>\n",
       "      <td>Completely free and fair</td>\n",
       "    </tr>\n",
       "    <tr>\n",
       "      <th>3</th>\n",
       "      <td>FCT ABUJA</td>\n",
       "      <td>I voted in the election</td>\n",
       "      <td>Completely free and fair</td>\n",
       "    </tr>\n",
       "    <tr>\n",
       "      <th>4</th>\n",
       "      <td>FCT ABUJA</td>\n",
       "      <td>I did not vote</td>\n",
       "      <td>Not free and fair</td>\n",
       "    </tr>\n",
       "  </tbody>\n",
       "</table>\n",
       "</div>"
      ],
      "text/plain": [
       "       State   Voted in last election Freeness and fairness of last election\n",
       "0        IMO           I did not vote     Free and fair, with major problems\n",
       "1  FCT ABUJA  I voted in the election     Free and fair, with major problems\n",
       "2  FCT ABUJA  I voted in the election               Completely free and fair\n",
       "3  FCT ABUJA  I voted in the election               Completely free and fair\n",
       "4  FCT ABUJA           I did not vote                      Not free and fair"
      ]
     },
     "execution_count": 2,
     "metadata": {},
     "output_type": "execute_result"
    }
   ],
   "source": [
    "# 7th analysis\n",
    "#load df\n",
    "df, meta = pyr.read_sav('afrobarometer_nigeria_rd8_2021.sav')\n",
    "# Select specific columns from the Dataframe based on the information provided in the metadata\n",
    "# and Replaces the code numbers with the actual values in each column using their actual name in the metadata\n",
    "columns = ['REGION','Q13', 'Q14']\n",
    "df_new = df.copy()[columns]\n",
    "for i in columns:\n",
    "    x = meta.variable_value_labels[i]\n",
    "    df_new[i].replace(x, inplace=True)\n",
    "    \n",
    "\n",
    "\n",
    "# Rename columns\n",
    "df_new.columns = ['State', 'Voted in last election', 'Freeness and fairness of last election']\n",
    "\n",
    "df_new.head()"
   ]
  },
  {
   "cell_type": "code",
   "execution_count": 3,
   "id": "73a9caf5",
   "metadata": {},
   "outputs": [
    {
     "data": {
      "text/plain": [
       "I voted in the election             0.779862\n",
       "I did not vote                      0.204503\n",
       "I was too young to vote             0.008130\n",
       "I can’t remember whether I voted    0.006879\n",
       "Don’t know                          0.000625\n",
       "Name: Voted in last election, dtype: float64"
      ]
     },
     "execution_count": 3,
     "metadata": {},
     "output_type": "execute_result"
    }
   ],
   "source": [
    "df_new['Voted in last election'].value_counts(normalize=True)"
   ]
  },
  {
   "cell_type": "code",
   "execution_count": 4,
   "id": "cad42b86",
   "metadata": {},
   "outputs": [
    {
     "data": {
      "text/plain": [
       "Completely free and fair                  0.397749\n",
       "Free and fair, but with minor problems    0.281426\n",
       "Not free and fair                         0.136335\n",
       "Free and fair, with major problems        0.132583\n",
       "Don’t know                                0.043152\n",
       "Do not understand question                0.006254\n",
       "Refused                                   0.002502\n",
       "Name: Freeness and fairness of last election, dtype: float64"
      ]
     },
     "execution_count": 4,
     "metadata": {},
     "output_type": "execute_result"
    }
   ],
   "source": [
    "df_new['Freeness and fairness of last election'].value_counts(normalize=True)"
   ]
  },
  {
   "cell_type": "code",
   "execution_count": 5,
   "id": "90448513",
   "metadata": {},
   "outputs": [],
   "source": [
    "hope = [\"Don’t know\",\"Refused\",\"Do not understand question\"]\n",
    "less = ['Voted in last election', 'Freeness and fairness of last election']\n",
    "\n",
    "for j in less:\n",
    "    for i in hope:\n",
    "        df_new = df_new.loc[df_new[j] != i]"
   ]
  },
  {
   "cell_type": "code",
   "execution_count": 6,
   "id": "68cb1c5f",
   "metadata": {
    "scrolled": true
   },
   "outputs": [
    {
     "data": {
      "image/png": "[encoded data removed]",
      "text/plain": [
       "<Figure size 432x288 with 2 Axes>"
      ]
     },
     "metadata": {
      "needs_background": "light"
     },
     "output_type": "display_data"
    }
   ],
   "source": [
    "fig = plt.figure()\n",
    "\n",
    "# Needed to add spacing between 1st and 2nd row\n",
    "# Add a margin between the main title and sub-plots\n",
    "fig.subplots_adjust(hspace=0.2, top=2)\n",
    "\n",
    "# Add the main title\n",
    "fig.suptitle(\"Voting in the last Nigerian General Election\", y=2.2, fontsize=15)\n",
    "\n",
    "\n",
    "# Add the subplots\n",
    "ax1 = fig.add_subplot(2,1,1)\n",
    "ax2 = fig.add_subplot(2,1,2)\n",
    "\n",
    "\n",
    "\n",
    "# Plot for axis 1-4\n",
    "(df_new['Voted in last election'].value_counts(normalize=True).sort_values()*100).plot(kind='barh', ax=ax1, color='green')\n",
    "(df_new['Freeness and fairness of last election'].value_counts(normalize=True).sort_values()*100).plot(kind='barh', ax=ax2, color='green')\n",
    "\n",
    "# Add the text for each subplot\n",
    "ax1.title.set_text(\"Did you vote in the last election?\")\n",
    "ax2.title.set_text(\"How free and fair was the last election?\")\n",
    "\n",
    "# label\n",
    "plt.xlabel('Percentage [%]')\n",
    "\n",
    "plt.show()"
   ]
  },
  {
   "cell_type": "code",
   "execution_count": 14,
   "id": "dccb2943",
   "metadata": {},
   "outputs": [],
   "source": [
    "df_new = df_new.loc[df_new['Voted in last election'] != 'I can’t remember whether I voted']"
   ]
  },
  {
   "cell_type": "code",
   "execution_count": 34,
   "id": "6eb57f0f",
   "metadata": {
    "scrolled": false
   },
   "outputs": [
    {
     "data": {
      "text/html": [
       "<div>\n",
       "<style scoped>\n",
       "    .dataframe tbody tr th:only-of-type {\n",
       "        vertical-align: middle;\n",
       "    }\n",
       "\n",
       "    .dataframe tbody tr th {\n",
       "        vertical-align: top;\n",
       "    }\n",
       "\n",
       "    .dataframe thead th {\n",
       "        text-align: right;\n",
       "    }\n",
       "</style>\n",
       "<table border=\"1\" class=\"dataframe\">\n",
       "  <thead>\n",
       "    <tr style=\"text-align: right;\">\n",
       "      <th></th>\n",
       "      <th>State</th>\n",
       "      <th>Voted in last election</th>\n",
       "      <th>Percentage</th>\n",
       "    </tr>\n",
       "  </thead>\n",
       "  <tbody>\n",
       "    <tr>\n",
       "      <th>0</th>\n",
       "      <td>ABIA</td>\n",
       "      <td>I voted in the election</td>\n",
       "      <td>0.633333</td>\n",
       "    </tr>\n",
       "    <tr>\n",
       "      <th>1</th>\n",
       "      <td>ABIA</td>\n",
       "      <td>I did not vote</td>\n",
       "      <td>0.366667</td>\n",
       "    </tr>\n",
       "    <tr>\n",
       "      <th>2</th>\n",
       "      <td>ADAMAWA</td>\n",
       "      <td>I voted in the election</td>\n",
       "      <td>0.857143</td>\n",
       "    </tr>\n",
       "    <tr>\n",
       "      <th>3</th>\n",
       "      <td>ADAMAWA</td>\n",
       "      <td>I did not vote</td>\n",
       "      <td>0.142857</td>\n",
       "    </tr>\n",
       "    <tr>\n",
       "      <th>4</th>\n",
       "      <td>AKWA IBOM</td>\n",
       "      <td>I voted in the election</td>\n",
       "      <td>0.727273</td>\n",
       "    </tr>\n",
       "    <tr>\n",
       "      <th>...</th>\n",
       "      <td>...</td>\n",
       "      <td>...</td>\n",
       "      <td>...</td>\n",
       "    </tr>\n",
       "    <tr>\n",
       "      <th>69</th>\n",
       "      <td>TARABA</td>\n",
       "      <td>I did not vote</td>\n",
       "      <td>0.173913</td>\n",
       "    </tr>\n",
       "    <tr>\n",
       "      <th>70</th>\n",
       "      <td>YOBE</td>\n",
       "      <td>I voted in the election</td>\n",
       "      <td>0.958333</td>\n",
       "    </tr>\n",
       "    <tr>\n",
       "      <th>71</th>\n",
       "      <td>YOBE</td>\n",
       "      <td>I did not vote</td>\n",
       "      <td>0.041667</td>\n",
       "    </tr>\n",
       "    <tr>\n",
       "      <th>72</th>\n",
       "      <td>ZAMFARA</td>\n",
       "      <td>I voted in the election</td>\n",
       "      <td>0.866667</td>\n",
       "    </tr>\n",
       "    <tr>\n",
       "      <th>73</th>\n",
       "      <td>ZAMFARA</td>\n",
       "      <td>I did not vote</td>\n",
       "      <td>0.133333</td>\n",
       "    </tr>\n",
       "  </tbody>\n",
       "</table>\n",
       "<p>74 rows × 3 columns</p>\n",
       "</div>"
      ],
      "text/plain": [
       "        State   Voted in last election  Percentage\n",
       "0        ABIA  I voted in the election    0.633333\n",
       "1        ABIA           I did not vote    0.366667\n",
       "2     ADAMAWA  I voted in the election    0.857143\n",
       "3     ADAMAWA           I did not vote    0.142857\n",
       "4   AKWA IBOM  I voted in the election    0.727273\n",
       "..        ...                      ...         ...\n",
       "69     TARABA           I did not vote    0.173913\n",
       "70       YOBE  I voted in the election    0.958333\n",
       "71       YOBE           I did not vote    0.041667\n",
       "72    ZAMFARA  I voted in the election    0.866667\n",
       "73    ZAMFARA           I did not vote    0.133333\n",
       "\n",
       "[74 rows x 3 columns]"
      ]
     },
     "execution_count": 34,
     "metadata": {},
     "output_type": "execute_result"
    }
   ],
   "source": [
    "df_piv = (df_new['Voted in last election']\n",
    "             .groupby(df_new['State'])\n",
    "             .value_counts(normalize=True)\n",
    "             .rename('Percentage')\n",
    "             .to_frame()\n",
    "             .reset_index()\n",
    "            )\n",
    "\n",
    "df_piv"
   ]
  },
  {
   "cell_type": "code",
   "execution_count": 71,
   "id": "f8103460",
   "metadata": {},
   "outputs": [],
   "source": [
    "# I was trying to get a order index thing such that the chart above would be ordered by the those that refused to vote\n",
    "show = ((df_new[df_new['Voted in last election'] != 'I voted in the election'])['Voted in last election']).groupby(df_new['State']).value_counts().sort_values(ascending=False)\n",
    "# Gets the first index of a multilevel index\n",
    "show.index = show.index.get_level_values(0)"
   ]
  },
  {
   "cell_type": "code",
   "execution_count": 73,
   "id": "acb45394",
   "metadata": {},
   "outputs": [
    {
     "data": {
      "image/png": "[encoded data removed]",
      "text/plain": [
       "<Figure size 864x576 with 1 Axes>"
      ]
     },
     "metadata": {
      "needs_background": "light"
     },
     "output_type": "display_data"
    }
   ],
   "source": [
    "order = show.index\n",
    "fig = plt.figure(figsize = [12,8])\n",
    "ax = sns.barplot(data = df_piv, x = 'State', y = 'Percentage', hue = 'Voted in last election',\n",
    "           palette = 'viridis_r', dodge = 0.4, order=order)\n",
    "plt.xticks(rotation=90)\n",
    "plt.ylabel('Normalized Percentage')\n",
    "plt.title('Proportion of sampled voters versus non-voters by State')\n",
    "ax.legend(loc=2, ncol=7, framealpha=1);"
   ]
  },
  {
   "cell_type": "code",
   "execution_count": 70,
   "id": "1840ca22",
   "metadata": {},
   "outputs": [
    {
     "data": {
      "text/plain": [
       "State        Voted in last election\n",
       "ABIA         I did not vote            1.0\n",
       "KANO         I did not vote            1.0\n",
       "KEBBI        I did not vote            1.0\n",
       "KOGI         I did not vote            1.0\n",
       "KWARA        I did not vote            1.0\n",
       "LAGOS        I did not vote            1.0\n",
       "NASARAWA     I did not vote            1.0\n",
       "NIGER        I did not vote            1.0\n",
       "OGUN         I did not vote            1.0\n",
       "ONDO         I did not vote            1.0\n",
       "OSUN         I did not vote            1.0\n",
       "OYO          I did not vote            1.0\n",
       "PLATEAU      I did not vote            1.0\n",
       "RIVERS       I did not vote            1.0\n",
       "SOKOTO       I did not vote            1.0\n",
       "TARABA       I did not vote            1.0\n",
       "YOBE         I did not vote            1.0\n",
       "KATSINA      I did not vote            1.0\n",
       "KADUNA       I did not vote            1.0\n",
       "ADAMAWA      I did not vote            1.0\n",
       "JIGAWA       I did not vote            1.0\n",
       "AKWA IBOM    I did not vote            1.0\n",
       "ANAMBRA      I did not vote            1.0\n",
       "BAUCHI       I did not vote            1.0\n",
       "BAYELSA      I did not vote            1.0\n",
       "BENUE        I did not vote            1.0\n",
       "BORNO        I did not vote            1.0\n",
       "CROSS RIVER  I did not vote            1.0\n",
       "DELTA        I did not vote            1.0\n",
       "EBONYI       I did not vote            1.0\n",
       "EDO          I did not vote            1.0\n",
       "EKITI        I did not vote            1.0\n",
       "ENUGU        I did not vote            1.0\n",
       "FCT ABUJA    I did not vote            1.0\n",
       "GOMBE        I did not vote            1.0\n",
       "IMO          I did not vote            1.0\n",
       "ZAMFARA      I did not vote            1.0\n",
       "Name: Voted in last election, dtype: float64"
      ]
     },
     "execution_count": 70,
     "metadata": {},
     "output_type": "execute_result"
    }
   ],
   "source": [
    "# I was trying to get a order index thing such that the chart above would be ordered by the those that refused to vote\n",
    "((df_new[df_new['Voted in last election'] != 'I voted in the election'])['Voted in last election']).groupby(df_new['State']).value_counts(normalize=True).sort_values(ascending=False)"
   ]
  },
  {
   "cell_type": "code",
   "execution_count": 64,
   "id": "cbd1b706",
   "metadata": {},
   "outputs": [],
   "source": [
    "show.index = show.index.get_level_values(0)"
   ]
  },
  {
   "cell_type": "code",
   "execution_count": 69,
   "id": "f9151de6",
   "metadata": {},
   "outputs": [
    {
     "data": {
      "text/plain": [
       "Index(['ABIA', 'KANO', 'KEBBI', 'KOGI', 'KWARA', 'LAGOS', 'NASARAWA', 'NIGER',\n",
       "       'OGUN', 'ONDO', 'OSUN', 'OYO', 'PLATEAU', 'RIVERS', 'SOKOTO', 'TARABA',\n",
       "       'YOBE', 'KATSINA', 'KADUNA', 'ADAMAWA', 'JIGAWA', 'AKWA IBOM',\n",
       "       'ANAMBRA', 'BAUCHI', 'BAYELSA', 'BENUE', 'BORNO', 'CROSS RIVER',\n",
       "       'DELTA', 'EBONYI', 'EDO', 'EKITI', 'ENUGU', 'FCT ABUJA', 'GOMBE', 'IMO',\n",
       "       'ZAMFARA'],\n",
       "      dtype='object', name='State')"
      ]
     },
     "execution_count": 69,
     "metadata": {},
     "output_type": "execute_result"
    }
   ],
   "source": [
    "show.index"
   ]
  },
  {
   "cell_type": "code",
   "execution_count": null,
   "id": "47eb516a",
   "metadata": {},
   "outputs": [],
   "source": []
  }
 ],
 "metadata": {
  "kernelspec": {
   "display_name": "Python 3",
   "language": "python",
   "name": "python3"
  },
  "language_info": {
   "codemirror_mode": {
    "name": "ipython",
    "version": 3
   },
   "file_extension": ".py",
   "mimetype": "text/x-python",
   "name": "python",
   "nbconvert_exporter": "python",
   "pygments_lexer": "ipython3",
   "version": "3.8.8"
  }
 },
 "nbformat": 4,
 "nbformat_minor": 5
}
