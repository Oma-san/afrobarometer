{
 "cells": [
  {
   "cell_type": "code",
   "execution_count": 1,
   "id": "35504657",
   "metadata": {},
   "outputs": [],
   "source": [
    "# Import libraries\n",
    "import pandas as pd\n",
    "import pyreadstat as pyr\n",
    "\n",
    "import seaborn as sns\n",
    "import matplotlib.pyplot as plt\n",
    "import plotly.express as px\n"
   ]
  },
  {
   "cell_type": "code",
   "execution_count": 2,
   "id": "90abcbee",
   "metadata": {},
   "outputs": [],
   "source": [
    "def wrangle(filename):\n",
    "    \"\"\"\n",
    "    Loads and wrangles a .sav file\n",
    "    \n",
    "    Parameters\n",
    "    ----------\n",
    "    filename : .sav file\n",
    "        file that is loaded and wrangled\n",
    "        \n",
    "    Returns\n",
    "    -------\n",
    "    df : DataFrame\n",
    "        Result of wrangling    \n",
    "    \"\"\"\n",
    "    # Load file as DataFrame called df, meta is metadata which contains information on the DataFrame\n",
    "    df, meta = pyr.read_sav(filename)\n",
    "    # Select specific columns from the Dataframe based on the information provided in the metadata\n",
    "    df = df[['RESPNO','COUNTRY', 'URBRUR', 'REGION', 'Q3', 'Q4A', 'Q6', 'Q40', 'Q43G', 'Q49T']]\n",
    "    # Replaces the code numbers with the actual values in each column using their actual name in the metadata\n",
    "    list = ['COUNTRY', 'URBRUR', 'REGION', 'Q3', 'Q4A', 'Q6', 'Q40', 'Q43G', 'Q49T']\n",
    "    for i in list:\n",
    "        x = meta.variable_value_labels[i]\n",
    "        df[i].replace(x, inplace=True)\n",
    "    # Renames columns based on information gotten from the metadata    \n",
    "    df.columns = ['id', 'country', 'community', 'state', 'ctry_direction', 'ctry_present_econ',\n",
    "              'rel_econ_past12m', 'fear_pol_intimidation', 'trust_police', 'pay_bribe_police']\n",
    "\n",
    "    # Changes index to id\n",
    "    df.set_index('id', inplace=True)\n",
    "    \n",
    "    return df"
   ]
  },
  {
   "cell_type": "code",
   "execution_count": 3,
   "id": "7063998f",
   "metadata": {},
   "outputs": [],
   "source": [
    "# Use the wrangle function\n",
    "df = wrangle('afrobarometer.sav')"
   ]
  },
  {
   "cell_type": "code",
   "execution_count": 4,
   "id": "d4dc2a99",
   "metadata": {},
   "outputs": [],
   "source": [
    "# Saves the wrangle data as a csv file\n",
    "# df.to_csv('Nigeria.csv', index=False)"
   ]
  },
  {
   "cell_type": "code",
   "execution_count": 5,
   "id": "5e8e0cfe",
   "metadata": {},
   "outputs": [],
   "source": [
    "# metadata\n",
    "# print(meta.column_names_to_labels)\n",
    "# meta.variable_value_labels"
   ]
  },
  {
   "cell_type": "code",
   "execution_count": 7,
   "id": "3d8f3410",
   "metadata": {},
   "outputs": [
    {
     "data": {
      "text/html": [
       "<div>\n",
       "<style scoped>\n",
       "    .dataframe tbody tr th:only-of-type {\n",
       "        vertical-align: middle;\n",
       "    }\n",
       "\n",
       "    .dataframe tbody tr th {\n",
       "        vertical-align: top;\n",
       "    }\n",
       "\n",
       "    .dataframe thead th {\n",
       "        text-align: right;\n",
       "    }\n",
       "</style>\n",
       "<table border=\"1\" class=\"dataframe\">\n",
       "  <thead>\n",
       "    <tr style=\"text-align: right;\">\n",
       "      <th></th>\n",
       "      <th>ctry_direction</th>\n",
       "      <th>state</th>\n",
       "      <th>frequency</th>\n",
       "    </tr>\n",
       "  </thead>\n",
       "  <tbody>\n",
       "    <tr>\n",
       "      <th>0</th>\n",
       "      <td>Don't know</td>\n",
       "      <td>Nampula</td>\n",
       "      <td>103</td>\n",
       "    </tr>\n",
       "    <tr>\n",
       "      <th>1</th>\n",
       "      <td>Don't know</td>\n",
       "      <td>São Tomé</td>\n",
       "      <td>70</td>\n",
       "    </tr>\n",
       "    <tr>\n",
       "      <th>2</th>\n",
       "      <td>Don't know</td>\n",
       "      <td>Greater Accra</td>\n",
       "      <td>61</td>\n",
       "    </tr>\n",
       "    <tr>\n",
       "      <th>3</th>\n",
       "      <td>Don't know</td>\n",
       "      <td>Northern Province</td>\n",
       "      <td>46</td>\n",
       "    </tr>\n",
       "    <tr>\n",
       "      <th>4</th>\n",
       "      <td>Don't know</td>\n",
       "      <td>Plaine Wilhems</td>\n",
       "      <td>37</td>\n",
       "    </tr>\n",
       "    <tr>\n",
       "      <th>...</th>\n",
       "      <td>...</td>\n",
       "      <td>...</td>\n",
       "      <td>...</td>\n",
       "    </tr>\n",
       "    <tr>\n",
       "      <th>1080</th>\n",
       "      <td>Refused</td>\n",
       "      <td>South East</td>\n",
       "      <td>1</td>\n",
       "    </tr>\n",
       "    <tr>\n",
       "      <th>1081</th>\n",
       "      <td>Refused</td>\n",
       "      <td>São Vicente</td>\n",
       "      <td>1</td>\n",
       "    </tr>\n",
       "    <tr>\n",
       "      <th>1082</th>\n",
       "      <td>Refused</td>\n",
       "      <td>Thaba-Tseka</td>\n",
       "      <td>1</td>\n",
       "    </tr>\n",
       "    <tr>\n",
       "      <th>1083</th>\n",
       "      <td>Refused</td>\n",
       "      <td>Tonkpi</td>\n",
       "      <td>1</td>\n",
       "    </tr>\n",
       "    <tr>\n",
       "      <th>1084</th>\n",
       "      <td>Refused</td>\n",
       "      <td>Wouri</td>\n",
       "      <td>1</td>\n",
       "    </tr>\n",
       "  </tbody>\n",
       "</table>\n",
       "<p>1085 rows × 3 columns</p>\n",
       "</div>"
      ],
      "text/plain": [
       "     ctry_direction              state  frequency\n",
       "0        Don't know            Nampula        103\n",
       "1        Don't know           São Tomé         70\n",
       "2        Don't know      Greater Accra         61\n",
       "3        Don't know  Northern Province         46\n",
       "4        Don't know     Plaine Wilhems         37\n",
       "...             ...                ...        ...\n",
       "1080        Refused         South East          1\n",
       "1081        Refused        São Vicente          1\n",
       "1082        Refused        Thaba-Tseka          1\n",
       "1083        Refused             Tonkpi          1\n",
       "1084        Refused              Wouri          1\n",
       "\n",
       "[1085 rows x 3 columns]"
      ]
     },
     "execution_count": 7,
     "metadata": {},
     "output_type": "execute_result"
    }
   ],
   "source": [
    "df_piv = (df['state']\n",
    "             .groupby(df['ctry_direction'])\n",
    "             .value_counts()\n",
    "             .rename('frequency')\n",
    "             .to_frame()\n",
    "             .reset_index()\n",
    "            )\n",
    "\n",
    "df_piv"
   ]
  },
  {
   "cell_type": "code",
   "execution_count": null,
   "id": "46ca7c20",
   "metadata": {},
   "outputs": [],
   "source": [
    "df_piv[df_piv['ctry_direction'] == \"Going in the wrong direction\"]"
   ]
  },
  {
   "cell_type": "code",
   "execution_count": null,
   "id": "fc2cae5e",
   "metadata": {},
   "outputs": [],
   "source": [
    "df_nigeria['ctry_direction'].value_counts(normalize=True).sort_values().plot(kind='barh',\n",
    "                                                                            title= \"Perception of Nigeria's overall direction by citizens\");"
   ]
  },
  {
   "cell_type": "code",
   "execution_count": null,
   "id": "71395f2b",
   "metadata": {
    "scrolled": true
   },
   "outputs": [],
   "source": [
    "df_nigeria['ctry_present_econ'].value_counts(normalize=True).sort_values().plot(kind='barh',\n",
    "                                                                            title= \"Perception of Nigeria's economic situation by citizens\");"
   ]
  },
  {
   "cell_type": "code",
   "execution_count": null,
   "id": "0969cdc1",
   "metadata": {},
   "outputs": [],
   "source": [
    "df_nigeria['rel_econ_past12m'].value_counts(normalize=True).sort_values()"
   ]
  },
  {
   "cell_type": "code",
   "execution_count": null,
   "id": "e99080d9",
   "metadata": {},
   "outputs": [],
   "source": [
    "df_nigeria['rel_econ_past12m'].value_counts(normalize=True).sort_values().plot(kind='barh',\n",
    "                                                                            title= \"Perception of the change in Nigeria's economic situation by citizens\");"
   ]
  },
  {
   "cell_type": "code",
   "execution_count": null,
   "id": "3ff326ac",
   "metadata": {},
   "outputs": [],
   "source": [
    "df_nigeria['fear_pol_intimidation'].value_counts()"
   ]
  },
  {
   "cell_type": "code",
   "execution_count": null,
   "id": "1c8fb218",
   "metadata": {},
   "outputs": [],
   "source": [
    "df_nigeria['trust_police'].value_counts()"
   ]
  },
  {
   "cell_type": "code",
   "execution_count": null,
   "id": "c9fd68bb",
   "metadata": {},
   "outputs": [],
   "source": [
    "df_nigeria['pay_bribe_police'].value_counts()"
   ]
  },
  {
   "cell_type": "code",
   "execution_count": null,
   "id": "e83ab097",
   "metadata": {},
   "outputs": [],
   "source": [
    "df.country.value_counts()"
   ]
  },
  {
   "cell_type": "code",
   "execution_count": null,
   "id": "3a579d4f",
   "metadata": {},
   "outputs": [],
   "source": [
    "df_nigeria['ctry_direction'].value_counts(normalize=True)"
   ]
  },
  {
   "cell_type": "code",
   "execution_count": null,
   "id": "c9297792",
   "metadata": {},
   "outputs": [],
   "source": [
    "pivotal = df_nigeria[['state', 'ctry_direction']].value_counts().to_frame()"
   ]
  },
  {
   "cell_type": "code",
   "execution_count": null,
   "id": "df1fdab7",
   "metadata": {},
   "outputs": [],
   "source": [
    "pivotal.reset_index(inplace=True)"
   ]
  },
  {
   "cell_type": "code",
   "execution_count": null,
   "id": "b7c2a8ee",
   "metadata": {},
   "outputs": [],
   "source": [
    "pivotal_pivot = pivotal.pivot(index='state', columns='ctry_direction')"
   ]
  },
  {
   "cell_type": "code",
   "execution_count": null,
   "id": "9e3c781b",
   "metadata": {},
   "outputs": [],
   "source": [
    "pivotal_pivot"
   ]
  },
  {
   "cell_type": "code",
   "execution_count": null,
   "id": "14b24db1",
   "metadata": {},
   "outputs": [],
   "source": [
    "dir_diff_by_state =(pivotal_pivot[0]['Going in the right direction'] - pivotal_pivot[0]['Going in the wrong direction']).to_frame()"
   ]
  },
  {
   "cell_type": "code",
   "execution_count": null,
   "id": "5cc2ed8e",
   "metadata": {},
   "outputs": [],
   "source": [
    "dir_diff_by_state.rename(columns={0:'direction_difference'}, inplace=True)"
   ]
  },
  {
   "cell_type": "code",
   "execution_count": null,
   "id": "0b91536b",
   "metadata": {},
   "outputs": [],
   "source": [
    "dir_diff_by_state.reset_index(inplace=True)"
   ]
  },
  {
   "cell_type": "code",
   "execution_count": null,
   "id": "ac6cd119",
   "metadata": {
    "scrolled": true
   },
   "outputs": [],
   "source": [
    "plt.rcParams[\"figure.figsize\"] = (14,10)\n",
    "ax = dir_diff_by_state.dropna().sort_values(by='direction_difference').plot.barh(y='direction_difference',\n",
    "                                                                                 x='state', color='green', \n",
    "                                                                                 legend=False)\n",
    "plt.ylabel('State')\n",
    "plt.title('Difference between Nigerians that think Nigeria is going in the right direction and those that think it is going in the wrong direction by state');\n"
   ]
  },
  {
   "cell_type": "code",
   "execution_count": null,
   "id": "3db9ba5d",
   "metadata": {},
   "outputs": [],
   "source": [
    "dir_diff_by_state.sort_values(by='direction_difference')"
   ]
  },
  {
   "cell_type": "code",
   "execution_count": null,
   "id": "306733c6",
   "metadata": {},
   "outputs": [],
   "source": [
    "df.country.value_counts().index"
   ]
  },
  {
   "cell_type": "code",
   "execution_count": null,
   "id": "aed3764a",
   "metadata": {},
   "outputs": [],
   "source": []
  },
  {
   "cell_type": "markdown",
   "id": "ffe1da5a",
   "metadata": {},
   "source": [
    "# Nigerian Police"
   ]
  },
  {
   "cell_type": "code",
   "execution_count": null,
   "id": "fa9fd633",
   "metadata": {},
   "outputs": [],
   "source": [
    "# Load .sav file\n",
    "df, meta = pyr.read_sav('afrobarometer.sav')"
   ]
  },
  {
   "cell_type": "code",
   "execution_count": null,
   "id": "9b6608e3",
   "metadata": {},
   "outputs": [],
   "source": [
    "# Police Data wrangling\n",
    "# Select specific columns from the Dataframe based on the information provided in the metadata\n",
    "# and Replaces the code numbers with the actual values in each column using their actual name in the metadata\n",
    "columns = ['COUNTRY','REGION','Q10A','Q10B','Q11A','Q11B','Q43G', 'Q44E', 'Q49P','Q49Q','Q49R','Q49T']\n",
    "df_police = df.copy()[columns]\n",
    "for i in columns:\n",
    "    x = meta.variable_value_labels[i]\n",
    "    df_police[i].replace(x, inplace=True)"
   ]
  },
  {
   "cell_type": "code",
   "execution_count": null,
   "id": "038d708b",
   "metadata": {},
   "outputs": [],
   "source": [
    "df_police.head()"
   ]
  },
  {
   "cell_type": "code",
   "execution_count": null,
   "id": "56236039",
   "metadata": {},
   "outputs": [],
   "source": [
    "# Rename columns in the police data\n",
    "df_police.columns = ['country', 'state', 'neigborhood_safety', 'fear_of_crime',\n",
    "              'stolen_from', 'attacked', 'trust_police', 'corrupt_police',\n",
    "               'ease_of_police_assist','time_to_police_assist', 'paybribe_police_assist', 'paybribe_avoid_police']"
   ]
  },
  {
   "cell_type": "code",
   "execution_count": null,
   "id": "2c5ce62e",
   "metadata": {},
   "outputs": [],
   "source": [
    "mask = df_police['country'] == 'Nigeria'\n",
    "df_nigpol = df_police[mask]\n",
    "\n",
    "df_nigpol.head()"
   ]
  },
  {
   "cell_type": "code",
   "execution_count": null,
   "id": "f29b8b7b",
   "metadata": {},
   "outputs": [],
   "source": [
    "df_nigpol['stolen_from'].value_counts(normalize=True).sort_values().plot(kind='barh',\n",
    "                                                                            title= \"Have you been stolen from?\", color='green');"
   ]
  },
  {
   "cell_type": "code",
   "execution_count": null,
   "id": "76c0e41a",
   "metadata": {},
   "outputs": [],
   "source": [
    "df_nigpol['attacked'].value_counts(normalize=True).sort_values().plot(kind='barh',\n",
    "                                                                            title= \"Have you been attacked?\", color='green');"
   ]
  },
  {
   "cell_type": "code",
   "execution_count": null,
   "id": "46e5dd86",
   "metadata": {},
   "outputs": [],
   "source": [
    "df_nigpol['trust_police'].value_counts(normalize=True).sort_values().plot(kind='barh',\n",
    "                                                                            title= \"Do you trust the police?\", color='green');"
   ]
  },
  {
   "cell_type": "code",
   "execution_count": null,
   "id": "d5bc5eeb",
   "metadata": {
    "scrolled": true
   },
   "outputs": [],
   "source": [
    "df_nigpol['corrupt_police'].value_counts(normalize=True).sort_values().plot(kind='barh',\n",
    "                                                                            title= \"Perception of police corruption\", color='green');"
   ]
  },
  {
   "cell_type": "code",
   "execution_count": null,
   "id": "67d5b587",
   "metadata": {},
   "outputs": [],
   "source": [
    "(df_nigpol[df_nigpol['ease_of_police_assist'] != 'No contact'])['ease_of_police_assist'].value_counts(normalize=True).sort_values().plot(kind='barh',\n",
    "                                                                            title= \"How easy is it to get police assistance?\", color='green');"
   ]
  },
  {
   "cell_type": "code",
   "execution_count": null,
   "id": "91f57b63",
   "metadata": {},
   "outputs": [],
   "source": [
    "(df_nigpol[df_nigpol['paybribe_police_assist'] != 'No contact'])['paybribe_police_assist'].value_counts(normalize=True).sort_values().plot(kind='barh',\n",
    "                                                                            title= \"Do you pay bribe to receive assistance from the police?\", color='green');\n"
   ]
  },
  {
   "cell_type": "code",
   "execution_count": null,
   "id": "e6cf8559",
   "metadata": {},
   "outputs": [],
   "source": [
    "(df_nigpol[df_nigpol['paybribe_avoid_police'] != 'No contact'])['paybribe_avoid_police'].value_counts(normalize=True).sort_values().plot(kind='barh',\n",
    "                                                                            title= \"Do you pay bribe to avoid the police?\", color='green');"
   ]
  },
  {
   "cell_type": "markdown",
   "id": "23890deb",
   "metadata": {},
   "source": [
    "# Afrobarometer Nigeria 2021 data"
   ]
  },
  {
   "cell_type": "code",
   "execution_count": null,
   "id": "9003d618",
   "metadata": {},
   "outputs": [],
   "source": [
    "df, meta = pyr.read_sav('afrobarometer_nigeria_rd8_2021.sav')"
   ]
  },
  {
   "cell_type": "code",
   "execution_count": null,
   "id": "46f9afda",
   "metadata": {},
   "outputs": [],
   "source": [
    "print(meta.column_names_to_labels)"
   ]
  },
  {
   "cell_type": "code",
   "execution_count": null,
   "id": "9387b1ed",
   "metadata": {},
   "outputs": [],
   "source": [
    "#meta.variable_value_labels"
   ]
  },
  {
   "cell_type": "code",
   "execution_count": null,
   "id": "2d3d88d3",
   "metadata": {},
   "outputs": [],
   "source": [
    "df.shape"
   ]
  },
  {
   "cell_type": "markdown",
   "id": "8ff2b71e",
   "metadata": {},
   "source": [
    "## Analysis 1"
   ]
  },
  {
   "cell_type": "code",
   "execution_count": null,
   "id": "0d282d14",
   "metadata": {
    "scrolled": true
   },
   "outputs": [],
   "source": [
    "# 1st analysis\n",
    "# Select specific columns from the Dataframe based on the information provided in the metadata\n",
    "# and Replaces the code numbers with the actual values in each column using their actual name in the metadata\n",
    "columns = ['REGION','Q1', 'Q2', 'Q4B']\n",
    "df_new = df.copy()[columns]\n",
    "for i in columns:\n",
    "    x = meta.variable_value_labels[i]\n",
    "    df_new[i].replace(x, inplace=True)\n",
    "    \n",
    "df_new.head()"
   ]
  },
  {
   "cell_type": "code",
   "execution_count": null,
   "id": "780ffaee",
   "metadata": {},
   "outputs": [],
   "source": [
    "df_new.columns = ['State', 'Age', 'Language spoken at home', 'Present living conditions']"
   ]
  },
  {
   "cell_type": "code",
   "execution_count": null,
   "id": "f808c9f3",
   "metadata": {},
   "outputs": [],
   "source": [
    "# Find row with non numeric data\n",
    "df_new[df_new['Q1'] == 'Refused']\n",
    "# Drop row with non numeric data\n",
    "df_new = df_new.drop(index=978)"
   ]
  },
  {
   "cell_type": "code",
   "execution_count": null,
   "id": "8705085d",
   "metadata": {
    "scrolled": true
   },
   "outputs": [],
   "source": [
    "df_new.head()"
   ]
  },
  {
   "cell_type": "code",
   "execution_count": null,
   "id": "6c82af40",
   "metadata": {},
   "outputs": [],
   "source": [
    "df_lang = df_new['Language spoken at home'].sort_values()"
   ]
  },
  {
   "cell_type": "code",
   "execution_count": null,
   "id": "02450d8a",
   "metadata": {},
   "outputs": [],
   "source": [
    "def build_new_bar():\n",
    "    # Create side-by-side bar chart\n",
    "    fig = px.bar(\n",
    "        data_frame=df_lang,\n",
    "        title=\"Languages spoken at home\"\n",
    "    )\n",
    "    # Set axis labels\n",
    "    fig.update_layout(xaxis_title=\"Language\",\n",
    "                     yaxis_title=\"Frequency [count]\",\n",
    "                    )\n",
    "    return fig\n",
    "\n",
    "cb_fig = build_new_bar()\n",
    "cb_fig.show()"
   ]
  },
  {
   "cell_type": "code",
   "execution_count": null,
   "id": "d017248a",
   "metadata": {},
   "outputs": [],
   "source": [
    "df_new.State.value_counts()"
   ]
  },
  {
   "cell_type": "markdown",
   "id": "b7e3cd87",
   "metadata": {},
   "source": [
    "## Analysis 2"
   ]
  },
  {
   "cell_type": "code",
   "execution_count": null,
   "id": "a205ce49",
   "metadata": {},
   "outputs": [],
   "source": [
    "# 2nd analysis\n",
    "#load df\n",
    "df, meta = pyr.read_sav('afrobarometer_nigeria_rd8_2021.sav')\n",
    "# Select specific columns from the Dataframe based on the information provided in the metadata\n",
    "# and Replaces the code numbers with the actual values in each column using their actual name in the metadata\n",
    "columns = ['REGION','Q7A', 'Q7B', 'Q7C']\n",
    "df_new = df.copy()[columns]\n",
    "for i in columns:\n",
    "    x = meta.variable_value_labels[i]\n",
    "    df_new[i].replace(x, inplace=True)\n",
    "    \n",
    "\n",
    "\n",
    "# Rename columns\n",
    "df_new.columns = ['State', 'Without food', 'Without water', 'Without medical care']\n",
    "\n",
    "df_new.head()"
   ]
  },
  {
   "cell_type": "markdown",
   "id": "97b40f5d",
   "metadata": {},
   "source": [
    "## Analysis 3"
   ]
  },
  {
   "cell_type": "code",
   "execution_count": null,
   "id": "d2070d4e",
   "metadata": {},
   "outputs": [],
   "source": [
    "# 3rd analysis\n",
    "#load df\n",
    "df, meta = pyr.read_sav('afrobarometer_nigeria_rd8_2021.sav')\n",
    "# Select specific columns from the Dataframe based on the information provided in the metadata\n",
    "# and Replaces the code numbers with the actual values in each column using their actual name in the metadata\n",
    "columns = ['REGION','Q4B', 'Q5']\n",
    "df_new = df.copy()[columns]\n",
    "for i in columns:\n",
    "    x = meta.variable_value_labels[i]\n",
    "    df_new[i].replace(x, inplace=True)\n",
    "    \n",
    "\n",
    "\n",
    "# Rename columns\n",
    "df_new.columns = ['State', 'Living condition', 'Treated unfairly by govt based on econ status']\n",
    "\n",
    "df_new.head()"
   ]
  },
  {
   "cell_type": "markdown",
   "id": "26a12e49",
   "metadata": {},
   "source": [
    "## Analysis 4"
   ]
  },
  {
   "cell_type": "code",
   "execution_count": null,
   "id": "db5b10e8",
   "metadata": {},
   "outputs": [],
   "source": [
    "# 4th analysis\n",
    "#load df\n",
    "df, meta = pyr.read_sav('afrobarometer_nigeria_rd8_2021.sav')\n",
    "# Select specific columns from the Dataframe based on the information provided in the metadata\n",
    "# and Replaces the code numbers with the actual values in each column using their actual name in the metadata\n",
    "columns = ['REGION','Q9', 'Q10A', 'Q10B', 'Q10C']\n",
    "df_new = df.copy()[columns]\n",
    "for i in columns:\n",
    "    x = meta.variable_value_labels[i]\n",
    "    df_new[i].replace(x, inplace=True)\n",
    "    \n",
    "\n",
    "\n",
    "# Rename columns\n",
    "df_new.columns = ['State', 'Discuss politics', 'Freedom to say what you think', 'Freedom to join political organization', 'Freedom to chose who to vote for']\n",
    "\n",
    "df_new.head()"
   ]
  },
  {
   "cell_type": "code",
   "execution_count": null,
   "id": "406f6391",
   "metadata": {},
   "outputs": [],
   "source": [
    "print(meta.column_names_to_labels)"
   ]
  },
  {
   "cell_type": "markdown",
   "id": "7c132fc8",
   "metadata": {},
   "source": [
    "## Analysis 5"
   ]
  },
  {
   "cell_type": "code",
   "execution_count": null,
   "id": "98795845",
   "metadata": {},
   "outputs": [],
   "source": [
    "# 5th analysis\n",
    "#load df\n",
    "df, meta = pyr.read_sav('afrobarometer_nigeria_rd8_2021.sav')\n",
    "# Select specific columns from the Dataframe based on the information provided in the metadata\n",
    "# and Replaces the code numbers with the actual values in each column using their actual name in the metadata\n",
    "columns = ['REGION','Q11A', 'Q11B', 'Q11C']\n",
    "df_new = df.copy()[columns]\n",
    "for i in columns:\n",
    "    x = meta.variable_value_labels[i]\n",
    "    df_new[i].replace(x, inplace=True)\n",
    "    \n",
    "\n",
    "\n",
    "# Rename columns\n",
    "df_new.columns = ['State', 'Attend community meeting', 'Join others to raise an issue', 'Attend a demonstration']\n",
    "\n",
    "df_new.head()"
   ]
  },
  {
   "cell_type": "markdown",
   "id": "1f1c13e3",
   "metadata": {},
   "source": [
    "## Analysis 6"
   ]
  },
  {
   "cell_type": "code",
   "execution_count": null,
   "id": "66d8e15f",
   "metadata": {},
   "outputs": [],
   "source": [
    "# 6th analysis\n",
    "#load df\n",
    "df, meta = pyr.read_sav('afrobarometer_nigeria_rd8_2021.sav')\n",
    "# Select specific columns from the Dataframe based on the information provided in the metadata\n",
    "# and Replaces the code numbers with the actual values in each column using their actual name in the metadata\n",
    "columns = ['REGION','Q12A', 'Q12B', 'Q12C', 'Q12D']\n",
    "df_new = df.copy()[columns]\n",
    "for i in columns:\n",
    "    x = meta.variable_value_labels[i]\n",
    "    df_new[i].replace(x, inplace=True)\n",
    "    \n",
    "\n",
    "\n",
    "# Rename columns\n",
    "df_new.columns = ['State', 'Contact local government councillor', 'Contact MP', 'Contact political party official', 'Contact traditional leader']\n",
    "\n",
    "df_new.head()"
   ]
  },
  {
   "cell_type": "markdown",
   "id": "c4df2d49",
   "metadata": {},
   "source": [
    "## Analysis 7"
   ]
  },
  {
   "cell_type": "code",
   "execution_count": null,
   "id": "c2d81a4c",
   "metadata": {},
   "outputs": [],
   "source": [
    "# 7th analysis\n",
    "#load df\n",
    "df, meta = pyr.read_sav('afrobarometer_nigeria_rd8_2021.sav')\n",
    "# Select specific columns from the Dataframe based on the information provided in the metadata\n",
    "# and Replaces the code numbers with the actual values in each column using their actual name in the metadata\n",
    "columns = ['REGION','Q13', 'Q14']\n",
    "df_new = df.copy()[columns]\n",
    "for i in columns:\n",
    "    x = meta.variable_value_labels[i]\n",
    "    df_new[i].replace(x, inplace=True)\n",
    "    \n",
    "\n",
    "\n",
    "# Rename columns\n",
    "df_new.columns = ['State', 'Voted in last election', 'Freeness and fairness of last election']\n",
    "\n",
    "df_new.head()"
   ]
  },
  {
   "cell_type": "markdown",
   "id": "91a4c4d9",
   "metadata": {},
   "source": [
    "## Analysis 8"
   ]
  },
  {
   "cell_type": "code",
   "execution_count": null,
   "id": "1bd6287d",
   "metadata": {},
   "outputs": [],
   "source": [
    "# 8th analysis\n",
    "#load df\n",
    "df, meta = pyr.read_sav('afrobarometer_nigeria_rd8_2021.sav')\n",
    "# Select specific columns from the Dataframe based on the information provided in the metadata\n",
    "# and Replaces the code numbers with the actual values in each column using their actual name in the metadata\n",
    "columns = ['REGION','Q15A', 'Q15B', 'Q15C']\n",
    "df_new = df.copy()[columns]\n",
    "for i in columns:\n",
    "    x = meta.variable_value_labels[i]\n",
    "    df_new[i].replace(x, inplace=True)\n",
    "    \n",
    "\n",
    "\n",
    "# Rename columns\n",
    "df_new.columns = ['State', 'Attended campaign rally', 'Worked for candidate or party', 'Contacted by party rep']\n",
    "\n",
    "df_new.head()"
   ]
  },
  {
   "cell_type": "code",
   "execution_count": null,
   "id": "59906258",
   "metadata": {},
   "outputs": [],
   "source": []
  }
 ],
 "metadata": {
  "kernelspec": {
   "display_name": "Python 3",
   "language": "python",
   "name": "python3"
  },
  "language_info": {
   "codemirror_mode": {
    "name": "ipython",
    "version": 3
   },
   "file_extension": ".py",
   "mimetype": "text/x-python",
   "name": "python",
   "nbconvert_exporter": "python",
   "pygments_lexer": "ipython3",
   "version": "3.8.8"
  }
 },
 "nbformat": 4,
 "nbformat_minor": 5
}
