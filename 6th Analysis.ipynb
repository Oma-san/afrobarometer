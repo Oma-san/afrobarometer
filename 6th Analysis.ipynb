{
 "cells": [
  {
   "cell_type": "code",
   "execution_count": 1,
   "id": "646eb9f8",
   "metadata": {},
   "outputs": [],
   "source": [
    "# Import libraries\n",
    "import pandas as pd\n",
    "import pyreadstat as pyr\n",
    "\n",
    "import seaborn as sns\n",
    "import matplotlib.pyplot as plt\n",
    "import plotly.express as px"
   ]
  },
  {
   "cell_type": "code",
   "execution_count": 2,
   "id": "daec5764",
   "metadata": {},
   "outputs": [
    {
     "data": {
      "text/html": [
       "<div>\n",
       "<style scoped>\n",
       "    .dataframe tbody tr th:only-of-type {\n",
       "        vertical-align: middle;\n",
       "    }\n",
       "\n",
       "    .dataframe tbody tr th {\n",
       "        vertical-align: top;\n",
       "    }\n",
       "\n",
       "    .dataframe thead th {\n",
       "        text-align: right;\n",
       "    }\n",
       "</style>\n",
       "<table border=\"1\" class=\"dataframe\">\n",
       "  <thead>\n",
       "    <tr style=\"text-align: right;\">\n",
       "      <th></th>\n",
       "      <th>State</th>\n",
       "      <th>Contact local government councillor</th>\n",
       "      <th>Contact MP</th>\n",
       "      <th>Contact political party official</th>\n",
       "      <th>Contact traditional leader</th>\n",
       "    </tr>\n",
       "  </thead>\n",
       "  <tbody>\n",
       "    <tr>\n",
       "      <th>0</th>\n",
       "      <td>IMO</td>\n",
       "      <td>Never</td>\n",
       "      <td>Never</td>\n",
       "      <td>Never</td>\n",
       "      <td>Never</td>\n",
       "    </tr>\n",
       "    <tr>\n",
       "      <th>1</th>\n",
       "      <td>FCT ABUJA</td>\n",
       "      <td>Never</td>\n",
       "      <td>Never</td>\n",
       "      <td>A few times</td>\n",
       "      <td>A few times</td>\n",
       "    </tr>\n",
       "    <tr>\n",
       "      <th>2</th>\n",
       "      <td>FCT ABUJA</td>\n",
       "      <td>A few times</td>\n",
       "      <td>Never</td>\n",
       "      <td>Don’t know</td>\n",
       "      <td>Never</td>\n",
       "    </tr>\n",
       "    <tr>\n",
       "      <th>3</th>\n",
       "      <td>FCT ABUJA</td>\n",
       "      <td>Never</td>\n",
       "      <td>Never</td>\n",
       "      <td>Never</td>\n",
       "      <td>Never</td>\n",
       "    </tr>\n",
       "    <tr>\n",
       "      <th>4</th>\n",
       "      <td>FCT ABUJA</td>\n",
       "      <td>Never</td>\n",
       "      <td>Never</td>\n",
       "      <td>Never</td>\n",
       "      <td>Never</td>\n",
       "    </tr>\n",
       "  </tbody>\n",
       "</table>\n",
       "</div>"
      ],
      "text/plain": [
       "       State Contact local government councillor Contact MP  \\\n",
       "0        IMO                               Never      Never   \n",
       "1  FCT ABUJA                               Never      Never   \n",
       "2  FCT ABUJA                         A few times      Never   \n",
       "3  FCT ABUJA                               Never      Never   \n",
       "4  FCT ABUJA                               Never      Never   \n",
       "\n",
       "  Contact political party official Contact traditional leader  \n",
       "0                            Never                      Never  \n",
       "1                      A few times                A few times  \n",
       "2                       Don’t know                      Never  \n",
       "3                            Never                      Never  \n",
       "4                            Never                      Never  "
      ]
     },
     "execution_count": 2,
     "metadata": {},
     "output_type": "execute_result"
    }
   ],
   "source": [
    "# 6th analysis\n",
    "#load df\n",
    "df, meta = pyr.read_sav('afrobarometer_nigeria_rd8_2021.sav')\n",
    "# Select specific columns from the Dataframe based on the information provided in the metadata\n",
    "# and Replaces the code numbers with the actual values in each column using their actual name in the metadata\n",
    "columns = ['REGION','Q12A', 'Q12B', 'Q12C', 'Q12D']\n",
    "df_new = df.copy()[columns]\n",
    "for i in columns:\n",
    "    x = meta.variable_value_labels[i]\n",
    "    df_new[i].replace(x, inplace=True)\n",
    "    \n",
    "\n",
    "\n",
    "# Rename columns\n",
    "df_new.columns = ['State', 'Contact local government councillor', 'Contact MP', 'Contact political party official', 'Contact traditional leader']\n",
    "\n",
    "df_new.head()"
   ]
  },
  {
   "cell_type": "code",
   "execution_count": 13,
   "id": "9fd5ebcb",
   "metadata": {},
   "outputs": [
    {
     "data": {
      "text/plain": [
       "Never          0.759670\n",
       "Only once      0.115409\n",
       "A few times    0.097654\n",
       "Often          0.027267\n",
       "Name: Contact local government councillor, dtype: float64"
      ]
     },
     "execution_count": 13,
     "metadata": {},
     "output_type": "execute_result"
    }
   ],
   "source": [
    "df_new['Contact local government councillor'].value_counts(normalize=True)"
   ]
  },
  {
   "cell_type": "code",
   "execution_count": 14,
   "id": "2491c5f5",
   "metadata": {},
   "outputs": [
    {
     "data": {
      "text/plain": [
       "Never          0.856056\n",
       "Only once      0.071655\n",
       "A few times    0.057070\n",
       "Often          0.015219\n",
       "Name: Contact MP, dtype: float64"
      ]
     },
     "execution_count": 14,
     "metadata": {},
     "output_type": "execute_result"
    }
   ],
   "source": [
    "df_new['Contact MP'].value_counts(normalize=True)"
   ]
  },
  {
   "cell_type": "code",
   "execution_count": 15,
   "id": "478bb063",
   "metadata": {},
   "outputs": [
    {
     "data": {
      "text/plain": [
       "Never          0.730501\n",
       "Only once      0.134432\n",
       "A few times    0.109702\n",
       "Often          0.025365\n",
       "Name: Contact political party official, dtype: float64"
      ]
     },
     "execution_count": 15,
     "metadata": {},
     "output_type": "execute_result"
    }
   ],
   "source": [
    "df_new['Contact political party official'].value_counts(normalize=True)"
   ]
  },
  {
   "cell_type": "code",
   "execution_count": 16,
   "id": "93b8e49c",
   "metadata": {},
   "outputs": [
    {
     "data": {
      "text/plain": [
       "Never          0.558656\n",
       "A few times    0.201015\n",
       "Only once      0.147749\n",
       "Often          0.092581\n",
       "Name: Contact traditional leader, dtype: float64"
      ]
     },
     "execution_count": 16,
     "metadata": {},
     "output_type": "execute_result"
    }
   ],
   "source": [
    "df_new['Contact traditional leader'].value_counts(normalize=True)"
   ]
  },
  {
   "cell_type": "code",
   "execution_count": 12,
   "id": "4bd56040",
   "metadata": {},
   "outputs": [],
   "source": [
    "hope = [\"Don't know\",\"Refused\",\"Don’t know\"]\n",
    "less = ['Contact local government councillor', 'Contact MP', 'Contact political party official', 'Contact traditional leader']\n",
    "\n",
    "for j in less:\n",
    "    for i in hope:\n",
    "        df_new = df_new.loc[df_new[j] != i]"
   ]
  },
  {
   "cell_type": "code",
   "execution_count": 19,
   "id": "7120b9dd",
   "metadata": {},
   "outputs": [
    {
     "data": {
      "image/png": "[encoded data removed]",
      "text/plain": [
       "<Figure size 432x288 with 4 Axes>"
      ]
     },
     "metadata": {
      "needs_background": "light"
     },
     "output_type": "display_data"
    }
   ],
   "source": [
    "fig = plt.figure()\n",
    "\n",
    "# Needed to add spacing between 1st and 2nd row\n",
    "# Add a margin between the main title and sub-plots\n",
    "fig.subplots_adjust(hspace=0.8, top=2)\n",
    "\n",
    "# Add the main title\n",
    "#fig.suptitle(\"Officials respondents contact\", fontsize=15)\n",
    "\n",
    "\n",
    "# Add the subplots\n",
    "ax1 = fig.add_subplot(4,1,1)\n",
    "ax2 = fig.add_subplot(4,1,2)\n",
    "ax3 = fig.add_subplot(4,1,3)\n",
    "ax4 = fig.add_subplot(4,1,4)\n",
    "\n",
    "\n",
    "# Plot for axis 1-4\n",
    "(df_new['Contact local government councillor'].value_counts(normalize=True).sort_values()*100).plot(kind='barh', ax=ax1, color='green')\n",
    "(df_new['Contact MP'].value_counts(normalize=True).sort_values()*100).plot(kind='barh', ax=ax2, color='green')\n",
    "(df_new['Contact political party official'].value_counts(normalize=True).sort_values()*100).plot(kind='barh', ax=ax3, color='green')\n",
    "(df_new['Contact traditional leader'].value_counts(normalize=True).sort_values()*100).plot(kind='barh', ax=ax4, color='green')\n",
    "\n",
    "# Add the text for each subplot\n",
    "ax1.title.set_text(\"Local government councillor\")\n",
    "ax2.title.set_text(\"MP\")\n",
    "ax3.title.set_text(\"Political party official\")\n",
    "ax4.title.set_text('Traditional leader')\n",
    "\n",
    "plt.show()"
   ]
  },
  {
   "cell_type": "code",
   "execution_count": null,
   "id": "234a3089",
   "metadata": {},
   "outputs": [],
   "source": []
  }
 ],
 "metadata": {
  "kernelspec": {
   "display_name": "Python 3",
   "language": "python",
   "name": "python3"
  },
  "language_info": {
   "codemirror_mode": {
    "name": "ipython",
    "version": 3
   },
   "file_extension": ".py",
   "mimetype": "text/x-python",
   "name": "python",
   "nbconvert_exporter": "python",
   "pygments_lexer": "ipython3",
   "version": "3.8.8"
  }
 },
 "nbformat": 4,
 "nbformat_minor": 5
}
