{
 "cells": [
  {
   "cell_type": "code",
   "execution_count": 1,
   "id": "ef998c33",
   "metadata": {},
   "outputs": [],
   "source": [
    "# Import libraries\n",
    "import pandas as pd\n",
    "import pyreadstat as pyr\n",
    "\n",
    "import seaborn as sns\n",
    "import matplotlib.pyplot as plt\n",
    "import plotly.express as px"
   ]
  },
  {
   "cell_type": "code",
   "execution_count": 2,
   "id": "4f572fec",
   "metadata": {},
   "outputs": [
    {
     "data": {
      "text/html": [
       "<div>\n",
       "<style scoped>\n",
       "    .dataframe tbody tr th:only-of-type {\n",
       "        vertical-align: middle;\n",
       "    }\n",
       "\n",
       "    .dataframe tbody tr th {\n",
       "        vertical-align: top;\n",
       "    }\n",
       "\n",
       "    .dataframe thead th {\n",
       "        text-align: right;\n",
       "    }\n",
       "</style>\n",
       "<table border=\"1\" class=\"dataframe\">\n",
       "  <thead>\n",
       "    <tr style=\"text-align: right;\">\n",
       "      <th></th>\n",
       "      <th>State</th>\n",
       "      <th>Attend community meeting</th>\n",
       "      <th>Join others to raise an issue</th>\n",
       "      <th>Attend a demonstration</th>\n",
       "    </tr>\n",
       "  </thead>\n",
       "  <tbody>\n",
       "    <tr>\n",
       "      <th>0</th>\n",
       "      <td>IMO</td>\n",
       "      <td>No, would never do this</td>\n",
       "      <td>Yes, several times</td>\n",
       "      <td>No, would never do this</td>\n",
       "    </tr>\n",
       "    <tr>\n",
       "      <th>1</th>\n",
       "      <td>FCT ABUJA</td>\n",
       "      <td>Yes, often</td>\n",
       "      <td>Yes, often</td>\n",
       "      <td>No, would never do this</td>\n",
       "    </tr>\n",
       "    <tr>\n",
       "      <th>2</th>\n",
       "      <td>FCT ABUJA</td>\n",
       "      <td>Yes, several times</td>\n",
       "      <td>No, would never do this</td>\n",
       "      <td>No, would never do this</td>\n",
       "    </tr>\n",
       "    <tr>\n",
       "      <th>3</th>\n",
       "      <td>FCT ABUJA</td>\n",
       "      <td>Yes, several times</td>\n",
       "      <td>Yes, several times</td>\n",
       "      <td>Yes, often</td>\n",
       "    </tr>\n",
       "    <tr>\n",
       "      <th>4</th>\n",
       "      <td>FCT ABUJA</td>\n",
       "      <td>No, would do it if I had the chance</td>\n",
       "      <td>Yes, once or twice</td>\n",
       "      <td>No, would do it if I had the chance</td>\n",
       "    </tr>\n",
       "  </tbody>\n",
       "</table>\n",
       "</div>"
      ],
      "text/plain": [
       "       State             Attend community meeting  \\\n",
       "0        IMO              No, would never do this   \n",
       "1  FCT ABUJA                           Yes, often   \n",
       "2  FCT ABUJA                   Yes, several times   \n",
       "3  FCT ABUJA                   Yes, several times   \n",
       "4  FCT ABUJA  No, would do it if I had the chance   \n",
       "\n",
       "  Join others to raise an issue               Attend a demonstration  \n",
       "0            Yes, several times              No, would never do this  \n",
       "1                    Yes, often              No, would never do this  \n",
       "2       No, would never do this              No, would never do this  \n",
       "3            Yes, several times                           Yes, often  \n",
       "4            Yes, once or twice  No, would do it if I had the chance  "
      ]
     },
     "execution_count": 2,
     "metadata": {},
     "output_type": "execute_result"
    }
   ],
   "source": [
    "# 5th analysis\n",
    "#load df\n",
    "df, meta = pyr.read_sav('afrobarometer_nigeria_rd8_2021.sav')\n",
    "# Select specific columns from the Dataframe based on the information provided in the metadata\n",
    "# and Replaces the code numbers with the actual values in each column using their actual name in the metadata\n",
    "columns = ['REGION','Q11A', 'Q11B', 'Q11C']\n",
    "df_new = df.copy()[columns]\n",
    "for i in columns:\n",
    "    x = meta.variable_value_labels[i]\n",
    "    df_new[i].replace(x, inplace=True)\n",
    "    \n",
    "\n",
    "\n",
    "# Rename columns\n",
    "df_new.columns = ['State', 'Attend community meeting', 'Join others to raise an issue', 'Attend a demonstration']\n",
    "\n",
    "df_new.head()"
   ]
  },
  {
   "cell_type": "code",
   "execution_count": 13,
   "id": "f3b46309",
   "metadata": {
    "scrolled": true
   },
   "outputs": [
    {
     "data": {
      "text/plain": [
       "No, would never do this                0.227889\n",
       "Yes, often                             0.218851\n",
       "Yes, several times                     0.207876\n",
       "No, would do it if I had the chance    0.187863\n",
       "Yes, once or twice                     0.157521\n",
       "Name: Attend community meeting, dtype: float64"
      ]
     },
     "execution_count": 13,
     "metadata": {},
     "output_type": "execute_result"
    }
   ],
   "source": [
    "df_new['Attend community meeting'].value_counts(normalize=True)"
   ]
  },
  {
   "cell_type": "code",
   "execution_count": 14,
   "id": "78c11a43",
   "metadata": {
    "scrolled": true
   },
   "outputs": [
    {
     "data": {
      "text/plain": [
       "No, would never do this                0.258231\n",
       "No, would do it if I had the chance    0.199484\n",
       "Yes, several times                     0.194319\n",
       "Yes, often                             0.183990\n",
       "Yes, once or twice                     0.163977\n",
       "Name: Join others to raise an issue, dtype: float64"
      ]
     },
     "execution_count": 14,
     "metadata": {},
     "output_type": "execute_result"
    }
   ],
   "source": [
    "df_new['Join others to raise an issue'].value_counts(normalize=True)"
   ]
  },
  {
   "cell_type": "code",
   "execution_count": 15,
   "id": "51a01568",
   "metadata": {},
   "outputs": [
    {
     "data": {
      "text/plain": [
       "No, would never do this                0.516462\n",
       "No, would do it if I had the chance    0.187218\n",
       "Yes, often                             0.119432\n",
       "Yes, once or twice                     0.092318\n",
       "Yes, several times                     0.084571\n",
       "Name: Attend a demonstration, dtype: float64"
      ]
     },
     "execution_count": 15,
     "metadata": {},
     "output_type": "execute_result"
    }
   ],
   "source": [
    "df_new['Attend a demonstration'].value_counts(normalize=True)"
   ]
  },
  {
   "cell_type": "code",
   "execution_count": 8,
   "id": "9a3526e7",
   "metadata": {},
   "outputs": [],
   "source": [
    "# Removes \"Don't know\" and \"Refused\" as options in the questions asked.\n",
    "hope = [\"Don't know\",\"Refused\"]\n",
    "less = ['Attend community meeting', 'Join others to raise an issue', 'Attend a demonstration']\n",
    "\n",
    "for j in less:\n",
    "    for i in hope:\n",
    "        df_new = df_new.loc[df_new[j] != i]"
   ]
  },
  {
   "cell_type": "code",
   "execution_count": 12,
   "id": "bb31fc61",
   "metadata": {},
   "outputs": [
    {
     "data": {
      "image/png": "[encoded data removed]",
      "text/plain": [
       "<Figure size 432x288 with 3 Axes>"
      ]
     },
     "metadata": {
      "needs_background": "light"
     },
     "output_type": "display_data"
    }
   ],
   "source": [
    "fig = plt.figure()\n",
    "\n",
    "# Needed to add spacing between 1st and 2nd row\n",
    "# Add a margin between the main title and sub-plots\n",
    "fig.subplots_adjust(hspace=0.8, top=2)\n",
    "\n",
    "# Add the main title\n",
    "# fig.suptitle(\"Main Title\", fontsize=15)\n",
    "\n",
    "# Add the subplots\n",
    "ax1 = fig.add_subplot(3,1,1)\n",
    "ax2 = fig.add_subplot(3,1,2)\n",
    "ax3 = fig.add_subplot(3,1,3)\n",
    "\n",
    "\n",
    "# Plot for axis 1-4\n",
    "(df_new['Attend community meeting'].value_counts(normalize=True).sort_values()*100).plot(kind='barh', ax=ax1, color='green')\n",
    "(df_new['Join others to raise an issue'].value_counts(normalize=True).sort_values()*100).plot(kind='barh', ax=ax2, color='green')\n",
    "(df_new['Attend a demonstration'].value_counts(normalize=True).sort_values()*100).plot(kind='barh', ax=ax3, color='green')\n",
    "\n",
    "\n",
    "# Add the text for each subplot\n",
    "ax1.title.set_text(\"Do you attend community meetings?\")\n",
    "ax2.title.set_text(\"Do you join others to raise issues in the community?\")\n",
    "ax3.title.set_text(\"Do you attend demonstrations or protests?\")\n",
    "\n",
    "plt.show()"
   ]
  },
  {
   "cell_type": "code",
   "execution_count": null,
   "id": "6bf2c20a",
   "metadata": {},
   "outputs": [],
   "source": []
  }
 ],
 "metadata": {
  "kernelspec": {
   "display_name": "Python 3",
   "language": "python",
   "name": "python3"
  },
  "language_info": {
   "codemirror_mode": {
    "name": "ipython",
    "version": 3
   },
   "file_extension": ".py",
   "mimetype": "text/x-python",
   "name": "python",
   "nbconvert_exporter": "python",
   "pygments_lexer": "ipython3",
   "version": "3.8.8"
  }
 },
 "nbformat": 4,
 "nbformat_minor": 5
}
