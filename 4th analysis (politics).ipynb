{
 "cells": [
  {
   "cell_type": "code",
   "execution_count": 2,
   "id": "917de916",
   "metadata": {},
   "outputs": [],
   "source": [
    "# Import libraries\n",
    "import pandas as pd\n",
    "import pyreadstat as pyr\n",
    "\n",
    "import seaborn as sns\n",
    "import matplotlib.pyplot as plt\n",
    "import plotly.express as px"
   ]
  },
  {
   "cell_type": "code",
   "execution_count": 6,
   "id": "046db401",
   "metadata": {},
   "outputs": [
    {
     "data": {
      "text/html": [
       "<div>\n",
       "<style scoped>\n",
       "    .dataframe tbody tr th:only-of-type {\n",
       "        vertical-align: middle;\n",
       "    }\n",
       "\n",
       "    .dataframe tbody tr th {\n",
       "        vertical-align: top;\n",
       "    }\n",
       "\n",
       "    .dataframe thead th {\n",
       "        text-align: right;\n",
       "    }\n",
       "</style>\n",
       "<table border=\"1\" class=\"dataframe\">\n",
       "  <thead>\n",
       "    <tr style=\"text-align: right;\">\n",
       "      <th></th>\n",
       "      <th>State</th>\n",
       "      <th>Discuss politics</th>\n",
       "      <th>Free to say what you think</th>\n",
       "      <th>Free to join political organization</th>\n",
       "      <th>Free to chose who to vote for</th>\n",
       "    </tr>\n",
       "  </thead>\n",
       "  <tbody>\n",
       "    <tr>\n",
       "      <th>0</th>\n",
       "      <td>IMO</td>\n",
       "      <td>Occasionally</td>\n",
       "      <td>Not at all free</td>\n",
       "      <td>Not at all free</td>\n",
       "      <td>Somewhat free</td>\n",
       "    </tr>\n",
       "    <tr>\n",
       "      <th>1</th>\n",
       "      <td>FCT ABUJA</td>\n",
       "      <td>Frequently</td>\n",
       "      <td>Not very free</td>\n",
       "      <td>Completely free</td>\n",
       "      <td>Not very free</td>\n",
       "    </tr>\n",
       "    <tr>\n",
       "      <th>2</th>\n",
       "      <td>FCT ABUJA</td>\n",
       "      <td>Occasionally</td>\n",
       "      <td>Not at all free</td>\n",
       "      <td>Not at all free</td>\n",
       "      <td>Not at all free</td>\n",
       "    </tr>\n",
       "    <tr>\n",
       "      <th>3</th>\n",
       "      <td>FCT ABUJA</td>\n",
       "      <td>Never</td>\n",
       "      <td>Not at all free</td>\n",
       "      <td>Not at all free</td>\n",
       "      <td>Not at all free</td>\n",
       "    </tr>\n",
       "    <tr>\n",
       "      <th>4</th>\n",
       "      <td>FCT ABUJA</td>\n",
       "      <td>Occasionally</td>\n",
       "      <td>Somewhat free</td>\n",
       "      <td>Completely free</td>\n",
       "      <td>Completely free</td>\n",
       "    </tr>\n",
       "  </tbody>\n",
       "</table>\n",
       "</div>"
      ],
      "text/plain": [
       "       State Discuss politics Free to say what you think  \\\n",
       "0        IMO     Occasionally            Not at all free   \n",
       "1  FCT ABUJA       Frequently              Not very free   \n",
       "2  FCT ABUJA     Occasionally            Not at all free   \n",
       "3  FCT ABUJA            Never            Not at all free   \n",
       "4  FCT ABUJA     Occasionally              Somewhat free   \n",
       "\n",
       "  Free to join political organization Free to chose who to vote for  \n",
       "0                     Not at all free                 Somewhat free  \n",
       "1                     Completely free                 Not very free  \n",
       "2                     Not at all free               Not at all free  \n",
       "3                     Not at all free               Not at all free  \n",
       "4                     Completely free               Completely free  "
      ]
     },
     "execution_count": 6,
     "metadata": {},
     "output_type": "execute_result"
    }
   ],
   "source": [
    "# 4th analysis\n",
    "#load df\n",
    "df, meta = pyr.read_sav('afrobarometer_nigeria_rd8_2021.sav')\n",
    "# Select specific columns from the Dataframe based on the information provided in the metadata\n",
    "# and Replaces the code numbers with the actual values in each column using their actual name in the metadata\n",
    "columns = ['REGION','Q9', 'Q10A', 'Q10B', 'Q10C']\n",
    "df_new = df.copy()[columns]\n",
    "for i in columns:\n",
    "    x = meta.variable_value_labels[i]\n",
    "    df_new[i].replace(x, inplace=True)\n",
    "    \n",
    "\n",
    "\n",
    "# Rename columns\n",
    "df_new.columns = ['State', 'Discuss politics', 'Free to say what you think', 'Free to join political organization', 'Free to chose who to vote for']\n",
    "\n",
    "df_new.head()"
   ]
  },
  {
   "cell_type": "code",
   "execution_count": 19,
   "id": "49d91d18",
   "metadata": {},
   "outputs": [
    {
     "data": {
      "text/plain": [
       "Occasionally    792\n",
       "Frequently      418\n",
       "Never           327\n",
       "Name: Discuss politics, dtype: int64"
      ]
     },
     "execution_count": 19,
     "metadata": {},
     "output_type": "execute_result"
    }
   ],
   "source": [
    "df_new['Discuss politics'].value_counts()"
   ]
  },
  {
   "cell_type": "code",
   "execution_count": 18,
   "id": "03000f50",
   "metadata": {},
   "outputs": [],
   "source": [
    "hope = [\"Don't know\"]\n",
    "less = ['Discuss politics', 'Free to join political organization']\n",
    "\n",
    "for j in less:\n",
    "    df_new = df_new.loc[df_new[j] != \"Refused\"]"
   ]
  },
  {
   "cell_type": "code",
   "execution_count": 24,
   "id": "bcaba2cf",
   "metadata": {},
   "outputs": [
    {
     "data": {
      "image/png": "[encoded data removed]",
      "text/plain": [
       "<Figure size 432x288 with 4 Axes>"
      ]
     },
     "metadata": {
      "needs_background": "light"
     },
     "output_type": "display_data"
    }
   ],
   "source": [
    "fig = plt.figure()\n",
    "\n",
    "# Needed to add spacing between 1st and 2nd row\n",
    "# Add a margin between the main title and sub-plots\n",
    "fig.subplots_adjust(hspace=0.8, top=2)\n",
    "\n",
    "# Add the main title\n",
    "# fig.suptitle(\"Main Title\", fontsize=15)\n",
    "\n",
    "# Add the subplots\n",
    "ax1 = fig.add_subplot(4,1,1)\n",
    "ax2 = fig.add_subplot(4,1,2)\n",
    "ax3 = fig.add_subplot(4,1,3)\n",
    "ax4 = fig.add_subplot(4,1,4)\n",
    "\n",
    "# Plot for axis 1-4\n",
    "(df_new['Discuss politics'].value_counts(normalize=True).sort_values()*100).plot(kind='barh', ax=ax1, color='green')\n",
    "(df_new['Free to say what you think'].value_counts(normalize=True).sort_values()*100).plot(kind='barh', ax=ax2, color='green')\n",
    "(df_new['Free to join political organization'].value_counts(normalize=True).sort_values()*100).plot(kind='barh', ax=ax3, color='green')\n",
    "(df_new['Free to chose who to vote for'].value_counts(normalize=True).sort_values()*100).plot(kind='barh', ax=ax4, color='green')\n",
    "\n",
    "# Add the text for each subplot\n",
    "ax1.title.set_text(\"Do you discuss politics?\")\n",
    "ax2.title.set_text(\"Are you free to say what you think?\")\n",
    "ax3.title.set_text(\"Are you free to join political organizations\")\n",
    "ax4.title.set_text(\"Are you free to chose who to vote for?\")\n",
    "plt.show()"
   ]
  },
  {
   "cell_type": "code",
   "execution_count": 28,
   "id": "b5afae47",
   "metadata": {},
   "outputs": [
    {
     "data": {
      "text/plain": [
       "Not at all free     8.132726\n",
       "Not very free       8.588159\n",
       "Somewhat free      16.330514\n",
       "Completely free    66.948601\n",
       "Name: Free to chose who to vote for, dtype: float64"
      ]
     },
     "execution_count": 28,
     "metadata": {},
     "output_type": "execute_result"
    }
   ],
   "source": [
    "df_new['Free to chose who to vote for'].value_counts(normalize=True).sort_values()*100"
   ]
  },
  {
   "cell_type": "code",
   "execution_count": null,
   "id": "825ac2ce",
   "metadata": {},
   "outputs": [],
   "source": []
  }
 ],
 "metadata": {
  "kernelspec": {
   "display_name": "Python 3",
   "language": "python",
   "name": "python3"
  },
  "language_info": {
   "codemirror_mode": {
    "name": "ipython",
    "version": 3
   },
   "file_extension": ".py",
   "mimetype": "text/x-python",
   "name": "python",
   "nbconvert_exporter": "python",
   "pygments_lexer": "ipython3",
   "version": "3.8.8"
  }
 },
 "nbformat": 4,
 "nbformat_minor": 5
}
