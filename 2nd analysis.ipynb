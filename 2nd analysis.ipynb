{
 "cells": [
  {
   "cell_type": "code",
   "execution_count": 1,
   "id": "7123f092",
   "metadata": {
    "scrolled": true
   },
   "outputs": [
    {
     "data": {
      "text/html": [
       "<div>\n",
       "<style scoped>\n",
       "    .dataframe tbody tr th:only-of-type {\n",
       "        vertical-align: middle;\n",
       "    }\n",
       "\n",
       "    .dataframe tbody tr th {\n",
       "        vertical-align: top;\n",
       "    }\n",
       "\n",
       "    .dataframe thead th {\n",
       "        text-align: right;\n",
       "    }\n",
       "</style>\n",
       "<table border=\"1\" class=\"dataframe\">\n",
       "  <thead>\n",
       "    <tr style=\"text-align: right;\">\n",
       "      <th></th>\n",
       "      <th>State</th>\n",
       "      <th>Without food</th>\n",
       "      <th>Without water</th>\n",
       "      <th>Without medical care</th>\n",
       "    </tr>\n",
       "  </thead>\n",
       "  <tbody>\n",
       "    <tr>\n",
       "      <th>0</th>\n",
       "      <td>IMO</td>\n",
       "      <td>Just once or twice</td>\n",
       "      <td>Several times</td>\n",
       "      <td>Many times</td>\n",
       "    </tr>\n",
       "    <tr>\n",
       "      <th>1</th>\n",
       "      <td>FCT ABUJA</td>\n",
       "      <td>Several times</td>\n",
       "      <td>Several times</td>\n",
       "      <td>Several times</td>\n",
       "    </tr>\n",
       "    <tr>\n",
       "      <th>2</th>\n",
       "      <td>FCT ABUJA</td>\n",
       "      <td>Several times</td>\n",
       "      <td>Never</td>\n",
       "      <td>Just once or twice</td>\n",
       "    </tr>\n",
       "    <tr>\n",
       "      <th>3</th>\n",
       "      <td>FCT ABUJA</td>\n",
       "      <td>Never</td>\n",
       "      <td>Never</td>\n",
       "      <td>Never</td>\n",
       "    </tr>\n",
       "    <tr>\n",
       "      <th>4</th>\n",
       "      <td>FCT ABUJA</td>\n",
       "      <td>Never</td>\n",
       "      <td>Never</td>\n",
       "      <td>Never</td>\n",
       "    </tr>\n",
       "  </tbody>\n",
       "</table>\n",
       "</div>"
      ],
      "text/plain": [
       "       State        Without food  Without water Without medical care\n",
       "0        IMO  Just once or twice  Several times           Many times\n",
       "1  FCT ABUJA       Several times  Several times        Several times\n",
       "2  FCT ABUJA       Several times          Never   Just once or twice\n",
       "3  FCT ABUJA               Never          Never                Never\n",
       "4  FCT ABUJA               Never          Never                Never"
      ]
     },
     "execution_count": 1,
     "metadata": {},
     "output_type": "execute_result"
    }
   ],
   "source": [
    "# Import libraries\n",
    "import pandas as pd\n",
    "import pyreadstat as pyr\n",
    "\n",
    "import seaborn as sns\n",
    "import matplotlib.pyplot as plt\n",
    "import plotly.express as px\n",
    "# 2nd analysis\n",
    "#load df\n",
    "df, meta = pyr.read_sav('afrobarometer_nigeria_rd8_2021.sav')\n",
    "# Select specific columns from the Dataframe based on the information provided in the metadata\n",
    "# and Replaces the code numbers with the actual values in each column using their actual name in the metadata\n",
    "columns = ['REGION','Q7A', 'Q7B', 'Q7C']\n",
    "df_new = df.copy()[columns]\n",
    "for i in columns:\n",
    "    x = meta.variable_value_labels[i]\n",
    "    df_new[i].replace(x, inplace=True)\n",
    "    \n",
    "\n",
    "\n",
    "# Rename columns\n",
    "df_new.columns = ['State', 'Without food', 'Without water', 'Without medical care']\n",
    "\n",
    "df_new.head()"
   ]
  },
  {
   "cell_type": "code",
   "execution_count": 32,
   "id": "ad86070a",
   "metadata": {},
   "outputs": [
    {
     "data": {
      "image/png": "[encoded data removed]",
      "text/plain": [
       "<Figure size 432x288 with 3 Axes>"
      ]
     },
     "metadata": {
      "needs_background": "light"
     },
     "output_type": "display_data"
    }
   ],
   "source": [
    "fig, (axis1,axis2,axis3) = plt.subplots(1,3,sharey=True) #creates subplots calling the subplots with 1 row and 2 columns, sharey =True makes them align better\n",
    "(df_new['Without food'].value_counts(normalize=True).sort_values()*100).plot(kind='barh', ax=axis1, color='green')\n",
    "plt.xlabel('Percentage (%)')\n",
    "plt.ylabel('Without food')\n",
    "plt.title('Proportion of respondents without food(left), without water(center), and without medical care(right)')\n",
    "(df_new['Without water'].value_counts(normalize=True).sort_values()*100).plot(kind='barh', ax=axis2, color='green')\n",
    "plt.xlabel('Percentage (%)')\n",
    "(df_new['Without medical care'].value_counts(normalize=True).sort_values()*100).plot(kind='barh', ax=axis3, color='green');"
   ]
  },
  {
   "cell_type": "code",
   "execution_count": 33,
   "id": "9a9ab13a",
   "metadata": {},
   "outputs": [
    {
     "data": {
      "text/plain": [
       "Don't know             0.062539\n",
       "Always                 5.816135\n",
       "Many times            14.383990\n",
       "Just once or twice    17.823640\n",
       "Several times         26.579112\n",
       "Never                 35.334584\n",
       "Name: Without food, dtype: float64"
      ]
     },
     "execution_count": 33,
     "metadata": {},
     "output_type": "execute_result"
    }
   ],
   "source": [
    "(df_new['Without food'].value_counts(normalize=True).sort_values()*100)"
   ]
  },
  {
   "cell_type": "code",
   "execution_count": 34,
   "id": "bd783e80",
   "metadata": {},
   "outputs": [
    {
     "data": {
      "text/plain": [
       "Don't know             0.125078\n",
       "Always                 6.003752\n",
       "Many times            12.070044\n",
       "Just once or twice    16.948093\n",
       "Several times         21.951220\n",
       "Never                 42.901814\n",
       "Name: Without water, dtype: float64"
      ]
     },
     "execution_count": 34,
     "metadata": {},
     "output_type": "execute_result"
    }
   ],
   "source": [
    "(df_new['Without water'].value_counts(normalize=True).sort_values()*100)"
   ]
  },
  {
   "cell_type": "code",
   "execution_count": 35,
   "id": "4dadfd50",
   "metadata": {},
   "outputs": [
    {
     "data": {
      "text/plain": [
       "Don't know             0.125078\n",
       "Always                 6.441526\n",
       "Many times            14.008755\n",
       "Just once or twice    21.826141\n",
       "Several times         22.701689\n",
       "Never                 34.896811\n",
       "Name: Without medical care, dtype: float64"
      ]
     },
     "execution_count": 35,
     "metadata": {},
     "output_type": "execute_result"
    }
   ],
   "source": [
    "(df_new['Without medical care'].value_counts(normalize=True).sort_values()*100)"
   ]
  },
  {
   "cell_type": "code",
   "execution_count": null,
   "id": "ced8d20e",
   "metadata": {},
   "outputs": [],
   "source": []
  }
 ],
 "metadata": {
  "kernelspec": {
   "display_name": "Python 3",
   "language": "python",
   "name": "python3"
  },
  "language_info": {
   "codemirror_mode": {
    "name": "ipython",
    "version": 3
   },
   "file_extension": ".py",
   "mimetype": "text/x-python",
   "name": "python",
   "nbconvert_exporter": "python",
   "pygments_lexer": "ipython3",
   "version": "3.8.8"
  }
 },
 "nbformat": 4,
 "nbformat_minor": 5
}
