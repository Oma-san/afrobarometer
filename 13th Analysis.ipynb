{
 "cells": [
  {
   "cell_type": "code",
   "execution_count": 1,
   "id": "50c9f0a9",
   "metadata": {},
   "outputs": [],
   "source": [
    "# Import libraries\n",
    "import pandas as pd\n",
    "import pyreadstat as pyr\n",
    "\n",
    "import seaborn as sns\n",
    "import matplotlib.pyplot as plt\n",
    "import plotly.express as px\n",
    "from wrangle2021 import Wrangler"
   ]
  },
  {
   "cell_type": "code",
   "execution_count": 2,
   "id": "0938e51e",
   "metadata": {},
   "outputs": [],
   "source": [
    "# Instantiate wrangle class\n",
    "wrangle = Wrangler()"
   ]
  },
  {
   "cell_type": "code",
   "execution_count": 3,
   "id": "61b4eaa6",
   "metadata": {},
   "outputs": [],
   "source": [
    "data = wrangle.wrangle(columns=['REGION','Q19A', 'Q19B'],rename=['State', 'Government bans organizations vs join any', 'Media free to publish vs government control'])"
   ]
  },
  {
   "cell_type": "code",
   "execution_count": 4,
   "id": "2c4fdec9",
   "metadata": {},
   "outputs": [
    {
     "name": "stdout",
     "output_type": "stream",
     "text": [
      "Agree very strongly with 1    0.289556\n",
      "Agree with 1                  0.255785\n",
      "Agree very strongly with 2    0.218887\n",
      "Agree with 2                  0.210757\n",
      "Agree with neither            0.021263\n",
      "Don't know                    0.003752\n",
      "Name: Government bans organizations vs join any, dtype: float64\n",
      "Agree very strongly with 1    0.377736\n",
      "Agree with 1                  0.279550\n",
      "Agree with 2                  0.173233\n",
      "Agree very strongly with 2    0.145716\n",
      "Agree with neither            0.016886\n",
      "Don't know                    0.006254\n",
      "Refused                       0.000625\n",
      "Name: Media free to publish vs government control, dtype: float64\n"
     ]
    }
   ],
   "source": [
    "wrangle.get_frequency(columns=['Government bans organizations vs join any', 'Media free to publish vs government control'], df_new=data)"
   ]
  },
  {
   "cell_type": "code",
   "execution_count": 5,
   "id": "b8344b40",
   "metadata": {},
   "outputs": [],
   "source": [
    "df_new = wrangle.remove(columns=['Government bans organizations vs join any', 'Media free to publish vs government control'], df_new=data)"
   ]
  },
  {
   "cell_type": "code",
   "execution_count": 6,
   "id": "b0794947",
   "metadata": {},
   "outputs": [],
   "source": [
    "columns=['Government bans organizations vs join any', 'Media free to publish vs government control']"
   ]
  },
  {
   "cell_type": "code",
   "execution_count": 10,
   "id": "3c603758",
   "metadata": {},
   "outputs": [
    {
     "name": "stdout",
     "output_type": "stream",
     "text": [
      "Agree very strongly with 1    0.291403\n",
      "Agree with 1                  0.256005\n",
      "Agree very strongly with 2    0.219975\n",
      "Agree with 2                  0.211125\n",
      "Agree with neither            0.021492\n",
      "Name: Government bans organizations vs join any, dtype: float64\n",
      "Agree very strongly with 1    0.381163\n",
      "Agree with 1                  0.281922\n",
      "Agree with 2                  0.172566\n",
      "Agree very strongly with 2    0.147282\n",
      "Agree with neither            0.017067\n",
      "Name: Media free to publish vs government control, dtype: float64\n"
     ]
    }
   ],
   "source": [
    "f = wrangle.get_frequency(columns=columns, df_new=df_new)"
   ]
  },
  {
   "cell_type": "code",
   "execution_count": 11,
   "id": "f801dc68",
   "metadata": {},
   "outputs": [
    {
     "data": {
      "text/html": [
       "<div>\n",
       "<style scoped>\n",
       "    .dataframe tbody tr th:only-of-type {\n",
       "        vertical-align: middle;\n",
       "    }\n",
       "\n",
       "    .dataframe tbody tr th {\n",
       "        vertical-align: top;\n",
       "    }\n",
       "\n",
       "    .dataframe thead th {\n",
       "        text-align: right;\n",
       "    }\n",
       "</style>\n",
       "<table border=\"1\" class=\"dataframe\">\n",
       "  <thead>\n",
       "    <tr style=\"text-align: right;\">\n",
       "      <th></th>\n",
       "      <th>State</th>\n",
       "      <th>Government bans organizations vs join any</th>\n",
       "      <th>Media free to publish vs government control</th>\n",
       "    </tr>\n",
       "  </thead>\n",
       "  <tbody>\n",
       "    <tr>\n",
       "      <th>0</th>\n",
       "      <td>IMO</td>\n",
       "      <td>Agree very strongly with 1</td>\n",
       "      <td>Agree very strongly with 2</td>\n",
       "    </tr>\n",
       "    <tr>\n",
       "      <th>1</th>\n",
       "      <td>FCT ABUJA</td>\n",
       "      <td>Agree very strongly with 2</td>\n",
       "      <td>Agree very strongly with 1</td>\n",
       "    </tr>\n",
       "    <tr>\n",
       "      <th>2</th>\n",
       "      <td>FCT ABUJA</td>\n",
       "      <td>Agree very strongly with 1</td>\n",
       "      <td>Agree very strongly with 2</td>\n",
       "    </tr>\n",
       "    <tr>\n",
       "      <th>3</th>\n",
       "      <td>FCT ABUJA</td>\n",
       "      <td>Agree with 1</td>\n",
       "      <td>Agree with 2</td>\n",
       "    </tr>\n",
       "    <tr>\n",
       "      <th>4</th>\n",
       "      <td>FCT ABUJA</td>\n",
       "      <td>Agree with 2</td>\n",
       "      <td>Agree very strongly with 1</td>\n",
       "    </tr>\n",
       "    <tr>\n",
       "      <th>...</th>\n",
       "      <td>...</td>\n",
       "      <td>...</td>\n",
       "      <td>...</td>\n",
       "    </tr>\n",
       "    <tr>\n",
       "      <th>1594</th>\n",
       "      <td>KANO</td>\n",
       "      <td>Agree very strongly with 1</td>\n",
       "      <td>Agree very strongly with 2</td>\n",
       "    </tr>\n",
       "    <tr>\n",
       "      <th>1595</th>\n",
       "      <td>KANO</td>\n",
       "      <td>Agree very strongly with 1</td>\n",
       "      <td>Agree very strongly with 1</td>\n",
       "    </tr>\n",
       "    <tr>\n",
       "      <th>1596</th>\n",
       "      <td>KANO</td>\n",
       "      <td>Agree with 2</td>\n",
       "      <td>Agree with 1</td>\n",
       "    </tr>\n",
       "    <tr>\n",
       "      <th>1597</th>\n",
       "      <td>KANO</td>\n",
       "      <td>Agree with 1</td>\n",
       "      <td>Agree with 1</td>\n",
       "    </tr>\n",
       "    <tr>\n",
       "      <th>1598</th>\n",
       "      <td>KANO</td>\n",
       "      <td>Agree very strongly with 1</td>\n",
       "      <td>Agree very strongly with 1</td>\n",
       "    </tr>\n",
       "  </tbody>\n",
       "</table>\n",
       "<p>1582 rows × 3 columns</p>\n",
       "</div>"
      ],
      "text/plain": [
       "          State Government bans organizations vs join any  \\\n",
       "0           IMO                Agree very strongly with 1   \n",
       "1     FCT ABUJA                Agree very strongly with 2   \n",
       "2     FCT ABUJA                Agree very strongly with 1   \n",
       "3     FCT ABUJA                              Agree with 1   \n",
       "4     FCT ABUJA                              Agree with 2   \n",
       "...         ...                                       ...   \n",
       "1594       KANO                Agree very strongly with 1   \n",
       "1595       KANO                Agree very strongly with 1   \n",
       "1596       KANO                              Agree with 2   \n",
       "1597       KANO                              Agree with 1   \n",
       "1598       KANO                Agree very strongly with 1   \n",
       "\n",
       "     Media free to publish vs government control  \n",
       "0                     Agree very strongly with 2  \n",
       "1                     Agree very strongly with 1  \n",
       "2                     Agree very strongly with 2  \n",
       "3                                   Agree with 2  \n",
       "4                     Agree very strongly with 1  \n",
       "...                                          ...  \n",
       "1594                  Agree very strongly with 2  \n",
       "1595                  Agree very strongly with 1  \n",
       "1596                                Agree with 1  \n",
       "1597                                Agree with 1  \n",
       "1598                  Agree very strongly with 1  \n",
       "\n",
       "[1582 rows x 3 columns]"
      ]
     },
     "execution_count": 11,
     "metadata": {},
     "output_type": "execute_result"
    }
   ],
   "source": [
    "df_new"
   ]
  },
  {
   "cell_type": "code",
   "execution_count": 22,
   "id": "3225f02c",
   "metadata": {},
   "outputs": [],
   "source": [
    "gov = df_new['Government bans organizations vs join any'].value_counts().rename('Count').to_frame().reset_index()"
   ]
  },
  {
   "cell_type": "code",
   "execution_count": 23,
   "id": "17f03ccf",
   "metadata": {},
   "outputs": [],
   "source": [
    "gov.columns= ['Government bans organizations vs join any', 'Count']"
   ]
  },
  {
   "cell_type": "code",
   "execution_count": 24,
   "id": "ed8a1cfe",
   "metadata": {},
   "outputs": [
    {
     "data": {
      "text/html": [
       "<div>\n",
       "<style scoped>\n",
       "    .dataframe tbody tr th:only-of-type {\n",
       "        vertical-align: middle;\n",
       "    }\n",
       "\n",
       "    .dataframe tbody tr th {\n",
       "        vertical-align: top;\n",
       "    }\n",
       "\n",
       "    .dataframe thead th {\n",
       "        text-align: right;\n",
       "    }\n",
       "</style>\n",
       "<table border=\"1\" class=\"dataframe\">\n",
       "  <thead>\n",
       "    <tr style=\"text-align: right;\">\n",
       "      <th></th>\n",
       "      <th>Government bans organizations vs join any</th>\n",
       "      <th>Count</th>\n",
       "    </tr>\n",
       "  </thead>\n",
       "  <tbody>\n",
       "    <tr>\n",
       "      <th>0</th>\n",
       "      <td>Agree very strongly with 1</td>\n",
       "      <td>461</td>\n",
       "    </tr>\n",
       "    <tr>\n",
       "      <th>1</th>\n",
       "      <td>Agree with 1</td>\n",
       "      <td>405</td>\n",
       "    </tr>\n",
       "    <tr>\n",
       "      <th>2</th>\n",
       "      <td>Agree very strongly with 2</td>\n",
       "      <td>348</td>\n",
       "    </tr>\n",
       "    <tr>\n",
       "      <th>3</th>\n",
       "      <td>Agree with 2</td>\n",
       "      <td>334</td>\n",
       "    </tr>\n",
       "    <tr>\n",
       "      <th>4</th>\n",
       "      <td>Agree with neither</td>\n",
       "      <td>34</td>\n",
       "    </tr>\n",
       "  </tbody>\n",
       "</table>\n",
       "</div>"
      ],
      "text/plain": [
       "  Government bans organizations vs join any  Count\n",
       "0                Agree very strongly with 1    461\n",
       "1                              Agree with 1    405\n",
       "2                Agree very strongly with 2    348\n",
       "3                              Agree with 2    334\n",
       "4                        Agree with neither     34"
      ]
     },
     "execution_count": 24,
     "metadata": {},
     "output_type": "execute_result"
    }
   ],
   "source": [
    "gov.head()"
   ]
  },
  {
   "cell_type": "code",
   "execution_count": 25,
   "id": "f5a287a2",
   "metadata": {},
   "outputs": [
    {
     "data": {
      "text/html": [
       "<div>\n",
       "<style scoped>\n",
       "    .dataframe tbody tr th:only-of-type {\n",
       "        vertical-align: middle;\n",
       "    }\n",
       "\n",
       "    .dataframe tbody tr th {\n",
       "        vertical-align: top;\n",
       "    }\n",
       "\n",
       "    .dataframe thead th {\n",
       "        text-align: right;\n",
       "    }\n",
       "</style>\n",
       "<table border=\"1\" class=\"dataframe\">\n",
       "  <thead>\n",
       "    <tr style=\"text-align: right;\">\n",
       "      <th></th>\n",
       "      <th>Government bans organizations vs join any</th>\n",
       "      <th>Count</th>\n",
       "    </tr>\n",
       "  </thead>\n",
       "  <tbody>\n",
       "    <tr>\n",
       "      <th>0</th>\n",
       "      <td>Agree very strongly with 1</td>\n",
       "      <td>461</td>\n",
       "    </tr>\n",
       "    <tr>\n",
       "      <th>1</th>\n",
       "      <td>Agree with 1</td>\n",
       "      <td>405</td>\n",
       "    </tr>\n",
       "    <tr>\n",
       "      <th>2</th>\n",
       "      <td>Agree very strongly with 2</td>\n",
       "      <td>348</td>\n",
       "    </tr>\n",
       "    <tr>\n",
       "      <th>3</th>\n",
       "      <td>Agree with 2</td>\n",
       "      <td>334</td>\n",
       "    </tr>\n",
       "    <tr>\n",
       "      <th>4</th>\n",
       "      <td>Agree with neither</td>\n",
       "      <td>34</td>\n",
       "    </tr>\n",
       "  </tbody>\n",
       "</table>\n",
       "</div>"
      ],
      "text/plain": [
       "  Government bans organizations vs join any  Count\n",
       "0                Agree very strongly with 1    461\n",
       "1                              Agree with 1    405\n",
       "2                Agree very strongly with 2    348\n",
       "3                              Agree with 2    334\n",
       "4                        Agree with neither     34"
      ]
     },
     "execution_count": 25,
     "metadata": {},
     "output_type": "execute_result"
    }
   ],
   "source": [
    "gov.reset_index(drop=True, inplace=True)\n",
    "\n",
    "gov.head()"
   ]
  },
  {
   "cell_type": "code",
   "execution_count": 27,
   "id": "3298f2d0",
   "metadata": {},
   "outputs": [],
   "source": [
    "gov.to_csv('gov.csv', index=False)"
   ]
  },
  {
   "cell_type": "code",
   "execution_count": null,
   "id": "035feba3",
   "metadata": {},
   "outputs": [],
   "source": []
  }
 ],
 "metadata": {
  "kernelspec": {
   "display_name": "Python 3",
   "language": "python",
   "name": "python3"
  },
  "language_info": {
   "codemirror_mode": {
    "name": "ipython",
    "version": 3
   },
   "file_extension": ".py",
   "mimetype": "text/x-python",
   "name": "python",
   "nbconvert_exporter": "python",
   "pygments_lexer": "ipython3",
   "version": "3.8.8"
  }
 },
 "nbformat": 4,
 "nbformat_minor": 5
}
