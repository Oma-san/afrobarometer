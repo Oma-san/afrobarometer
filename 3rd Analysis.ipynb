{
 "cells": [
  {
   "cell_type": "code",
   "execution_count": 1,
   "id": "4cf08275",
   "metadata": {},
   "outputs": [],
   "source": [
    "# Import libraries\n",
    "import pandas as pd\n",
    "import pyreadstat as pyr\n",
    "\n",
    "import seaborn as sns\n",
    "import matplotlib.pyplot as plt\n",
    "import plotly.express as px"
   ]
  },
  {
   "cell_type": "code",
   "execution_count": 2,
   "id": "69226cee",
   "metadata": {
    "scrolled": true
   },
   "outputs": [
    {
     "data": {
      "text/html": [
       "<div>\n",
       "<style scoped>\n",
       "    .dataframe tbody tr th:only-of-type {\n",
       "        vertical-align: middle;\n",
       "    }\n",
       "\n",
       "    .dataframe tbody tr th {\n",
       "        vertical-align: top;\n",
       "    }\n",
       "\n",
       "    .dataframe thead th {\n",
       "        text-align: right;\n",
       "    }\n",
       "</style>\n",
       "<table border=\"1\" class=\"dataframe\">\n",
       "  <thead>\n",
       "    <tr style=\"text-align: right;\">\n",
       "      <th></th>\n",
       "      <th>State</th>\n",
       "      <th>Living condition</th>\n",
       "      <th>Treated unfairly by govt based on econ status</th>\n",
       "    </tr>\n",
       "  </thead>\n",
       "  <tbody>\n",
       "    <tr>\n",
       "      <th>0</th>\n",
       "      <td>IMO</td>\n",
       "      <td>Fairly Good</td>\n",
       "      <td>Never</td>\n",
       "    </tr>\n",
       "    <tr>\n",
       "      <th>1</th>\n",
       "      <td>FCT ABUJA</td>\n",
       "      <td>Fairly Bad</td>\n",
       "      <td>Always</td>\n",
       "    </tr>\n",
       "    <tr>\n",
       "      <th>2</th>\n",
       "      <td>FCT ABUJA</td>\n",
       "      <td>Very good</td>\n",
       "      <td>Often</td>\n",
       "    </tr>\n",
       "    <tr>\n",
       "      <th>3</th>\n",
       "      <td>FCT ABUJA</td>\n",
       "      <td>Neither good nor bad</td>\n",
       "      <td>Often</td>\n",
       "    </tr>\n",
       "    <tr>\n",
       "      <th>4</th>\n",
       "      <td>FCT ABUJA</td>\n",
       "      <td>Fairly Good</td>\n",
       "      <td>Often</td>\n",
       "    </tr>\n",
       "  </tbody>\n",
       "</table>\n",
       "</div>"
      ],
      "text/plain": [
       "       State      Living condition  \\\n",
       "0        IMO           Fairly Good   \n",
       "1  FCT ABUJA            Fairly Bad   \n",
       "2  FCT ABUJA             Very good   \n",
       "3  FCT ABUJA  Neither good nor bad   \n",
       "4  FCT ABUJA           Fairly Good   \n",
       "\n",
       "  Treated unfairly by govt based on econ status  \n",
       "0                                         Never  \n",
       "1                                        Always  \n",
       "2                                         Often  \n",
       "3                                         Often  \n",
       "4                                         Often  "
      ]
     },
     "execution_count": 2,
     "metadata": {},
     "output_type": "execute_result"
    }
   ],
   "source": [
    "# 3rd analysis\n",
    "#load df\n",
    "df, meta = pyr.read_sav('afrobarometer_nigeria_rd8_2021.sav')\n",
    "# Select specific columns from the Dataframe based on the information provided in the metadata\n",
    "# and Replaces the code numbers with the actual values in each column using their actual name in the metadata\n",
    "columns = ['REGION','Q4B', 'Q5']\n",
    "df_new = df.copy()[columns]\n",
    "for i in columns:\n",
    "    x = meta.variable_value_labels[i]\n",
    "    df_new[i].replace(x, inplace=True)\n",
    "    \n",
    "\n",
    "\n",
    "# Rename columns\n",
    "df_new.columns = ['State', 'Living condition', 'Treated unfairly by govt based on econ status']\n",
    "\n",
    "df_new.head()"
   ]
  },
  {
   "cell_type": "code",
   "execution_count": 23,
   "id": "4b90aa54",
   "metadata": {},
   "outputs": [],
   "source": [
    "df_new = df_new.loc[df_new[\"Living condition\"] != \"Don't know\"]"
   ]
  },
  {
   "cell_type": "code",
   "execution_count": 27,
   "id": "64bc58f1",
   "metadata": {},
   "outputs": [],
   "source": [
    "df_new = df_new.loc[df_new[\"Living condition\"] != \"Refused\"]"
   ]
  },
  {
   "cell_type": "code",
   "execution_count": 31,
   "id": "53173e00",
   "metadata": {},
   "outputs": [],
   "source": [
    "df_new = df_new.loc[df_new['Treated unfairly by govt based on econ status'] != \"Refused\"]\n"
   ]
  },
  {
   "cell_type": "code",
   "execution_count": 35,
   "id": "a3c932de",
   "metadata": {},
   "outputs": [],
   "source": [
    "df_new = df_new.loc[df_new['Treated unfairly by govt based on econ status'] != \"Don’t know\"]"
   ]
  },
  {
   "cell_type": "code",
   "execution_count": 40,
   "id": "e88515c3",
   "metadata": {},
   "outputs": [
    {
     "data": {
      "image/png": "[encoded data removed]",
      "text/plain": [
       "<Figure size 432x288 with 2 Axes>"
      ]
     },
     "metadata": {
      "needs_background": "light"
     },
     "output_type": "display_data"
    }
   ],
   "source": [
    "fig, (axis1,axis2) = plt.subplots(2,1) #creates subplots calling the subplots with 1 row and 2 columns, sharey =True makes them align better\n",
    "# create space for subplot title\n",
    "fig.subplots_adjust(hspace=0.4, top=0.85)\n",
    "# Add main title\n",
    "fig.suptitle(\"Current living condition\", fontsize=12)\n",
    "(df_new['Living condition'].value_counts(normalize=True).sort_values()*100).plot(kind='barh', ax=axis1, color='green')\n",
    "plt.xlabel('Percentage (%)')\n",
    "plt.gca().set_title('Treated unfairly by govt based on economic status')\n",
    "(df_new['Treated unfairly by govt based on econ status'].value_counts(normalize=True).sort_values()*100).plot(kind='barh', ax=axis2, color='green');"
   ]
  },
  {
   "cell_type": "code",
   "execution_count": 19,
   "id": "498e0283",
   "metadata": {},
   "outputs": [
    {
     "data": {
      "image/png": "[encoded data removed]",
      "text/plain": [
       "<Figure size 432x288 with 4 Axes>"
      ]
     },
     "metadata": {
      "needs_background": "light"
     },
     "output_type": "display_data"
    }
   ],
   "source": [
    "fig = plt.figure()\n",
    "\n",
    "# Needed to add spacing between 1st and 2nd row\n",
    "# Add a margin between the main title and sub-plots\n",
    "fig.subplots_adjust(hspace=0.4, top=0.85)\n",
    "\n",
    "# Add the main title\n",
    "fig.suptitle(\"Main Title\", fontsize=15)\n",
    "\n",
    "# Add the subplots\n",
    "ax1 = fig.add_subplot(2,2,1)\n",
    "ax2 = fig.add_subplot(2,2,2)\n",
    "ax3 = fig.add_subplot(2,2,3)\n",
    "ax4 = fig.add_subplot(2,2,4)\n",
    "\n",
    "# Plot for axis 1 and 4\n",
    "(df_new['Living condition'].value_counts(normalize=True).sort_values()*100).plot(kind='barh', ax=ax1, color='green')\n",
    "(df_new['Treated unfairly by govt based on econ status'].value_counts(normalize=True).sort_values()*100).plot(kind='barh', ax=ax4, color='green');\n",
    "\n",
    "\n",
    "# Add the text for each subplot\n",
    "ax1.title.set_text(\"First\")\n",
    "ax2.title.set_text(\"Second\")\n",
    "ax3.title.set_text(\"Third\")\n",
    "ax4.title.set_text(\"Fourth\")\n",
    "plt.show()"
   ]
  },
  {
   "cell_type": "code",
   "execution_count": 36,
   "id": "c5b46845",
   "metadata": {},
   "outputs": [
    {
     "data": {
      "text/plain": [
       "Sometimes    0.378258\n",
       "Never        0.271456\n",
       "Often        0.210426\n",
       "Always       0.139860\n",
       "Name: Treated unfairly by govt based on econ status, dtype: float64"
      ]
     },
     "execution_count": 36,
     "metadata": {},
     "output_type": "execute_result"
    }
   ],
   "source": [
    "df_new['Treated unfairly by govt based on econ status'].value_counts(normalize=True)"
   ]
  },
  {
   "cell_type": "code",
   "execution_count": 41,
   "id": "511e4b64",
   "metadata": {},
   "outputs": [
    {
     "data": {
      "text/plain": [
       "Very Bad                0.258106\n",
       "Fairly Good             0.254927\n",
       "Fairly Bad              0.207247\n",
       "Very good               0.150668\n",
       "Neither good nor bad    0.129053\n",
       "Name: Living condition, dtype: float64"
      ]
     },
     "execution_count": 41,
     "metadata": {},
     "output_type": "execute_result"
    }
   ],
   "source": [
    "df_new['Living condition'].value_counts(normalize=True)"
   ]
  },
  {
   "cell_type": "code",
   "execution_count": null,
   "id": "9f28406e",
   "metadata": {},
   "outputs": [],
   "source": []
  }
 ],
 "metadata": {
  "kernelspec": {
   "display_name": "Python 3",
   "language": "python",
   "name": "python3"
  },
  "language_info": {
   "codemirror_mode": {
    "name": "ipython",
    "version": 3
   },
   "file_extension": ".py",
   "mimetype": "text/x-python",
   "name": "python",
   "nbconvert_exporter": "python",
   "pygments_lexer": "ipython3",
   "version": "3.8.8"
  }
 },
 "nbformat": 4,
 "nbformat_minor": 5
}
